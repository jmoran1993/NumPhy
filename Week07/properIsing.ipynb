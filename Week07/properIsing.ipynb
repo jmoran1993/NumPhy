{
 "cells": [
  {
   "cell_type": "code",
   "execution_count": 1,
   "metadata": {
    "collapsed": false
   },
   "outputs": [],
   "source": [
    "import numpy as np \n",
    "import matplotlib.pyplot as plt \n",
    "%matplotlib inline "
   ]
  },
  {
   "cell_type": "code",
   "execution_count": 2,
   "metadata": {
    "collapsed": false
   },
   "outputs": [],
   "source": [
    "class ising2dlattice(object):\n",
    "    \"\"\"A class for the Ising 2-d lattice using cluster algorithms\"\"\"\n",
    "    \n",
    "    def __init__(self,L,beta):\n",
    "        self.beta = beta\n",
    "        #self.J=J\n",
    "        #self.H=H\n",
    "        self.L = L\n",
    "        self.N = L*L\n",
    "        self.spins = np.random.randint(0,2,self.N)*2.0-1.0\n",
    "        self.site = {}\n",
    "        self.x_y = {}\n",
    "        self.nbr = {}\n",
    "        for j in xrange(self.N):\n",
    "            row = j//L\n",
    "            column = j-row*L\n",
    "            self.site[(row,column)] = j\n",
    "            self.x_y[j] = (row,column)\n",
    "            self.nbr[j]= (((row+1)%L,column),(row,(column+1)%L),((row-1)%L,column),(row,(column-1)%L))\n",
    "           \n",
    "        \n",
    "    def build_cluster(self):\n",
    "        p = 1.-np.exp(-2*self.beta)\n",
    "        site = np.random.randint(0,self.N)\n",
    "        pocket = [site]\n",
    "        cluster = [site]\n",
    "        while len(pocket)!=0:\n",
    "            spin = pocket.pop()\n",
    "            for neighbor in self.nbr[spin]:\n",
    "                neigh = self.site[neighbor]\n",
    "                if neigh not in cluster and self.spins[neigh]==self.spins[spin]:\n",
    "                    if np.random.rand(1.0)<p:\n",
    "                        pocket.append(neigh)\n",
    "                        cluster.append(neigh)\n",
    "        return cluster    \n",
    "        \n",
    "    def cluster_mc(self):\n",
    "        cluster = self.build_cluster()\n",
    "        self.spins[cluster]*=-1\n",
    "        \n",
    "    def spinsxy(self):\n",
    "        spinsxy = np.zeros((self.L,self.L))\n",
    "        for x in xrange(self.L):\n",
    "            for y in xrange(self.L):\n",
    "                spinsxy[x,y]=self.spins[self.site[(x,y)]]\n",
    "        return spinsxy"
   ]
  },
  {
   "cell_type": "code",
   "execution_count": 3,
   "metadata": {
    "collapsed": false
   },
   "outputs": [],
   "source": [
    "config = ising2dlattice(100,1)"
   ]
  },
  {
   "cell_type": "code",
   "execution_count": 4,
   "metadata": {
    "collapsed": false
   },
   "outputs": [
    {
     "data": {
      "text/plain": [
       "((1, 0), (0, 1), (99, 0), (0, 99))"
      ]
     },
     "execution_count": 4,
     "metadata": {},
     "output_type": "execute_result"
    }
   ],
   "source": [
    "config.nbr[0]"
   ]
  },
  {
   "cell_type": "code",
   "execution_count": 5,
   "metadata": {
    "collapsed": false
   },
   "outputs": [
    {
     "data": {
      "text/plain": [
       "(0, 0)"
      ]
     },
     "execution_count": 5,
     "metadata": {},
     "output_type": "execute_result"
    }
   ],
   "source": [
    "config.x_y[0]"
   ]
  },
  {
   "cell_type": "code",
   "execution_count": 6,
   "metadata": {
    "collapsed": false
   },
   "outputs": [],
   "source": [
    "steps = 100\n",
    "snap = 1"
   ]
  },
  {
   "cell_type": "code",
   "execution_count": 7,
   "metadata": {
    "collapsed": false
   },
   "outputs": [
    {
     "name": "stdout",
     "output_type": "stream",
     "text": [
      "i = 0............ done. Flipping cluster...... done\n",
      "i = 1............"
     ]
    },
    {
     "name": "stderr",
     "output_type": "stream",
     "text": [
      "/usr/local/lib/python2.7/dist-packages/ipykernel/__main__.py:32: VisibleDeprecationWarning: using a non-integer number instead of an integer will result in an error in the future\n"
     ]
    },
    {
     "name": "stdout",
     "output_type": "stream",
     "text": [
      " done. Flipping cluster...... done\n",
      "i = 2............ done. Flipping cluster...... done\n",
      "i = 3............ done. Flipping cluster...... done\n",
      "i = 4............ done. Flipping cluster...... done\n",
      "i = 5............ done. Flipping cluster...... done\n",
      "i = 6............ done. Flipping cluster...... done\n",
      "i = 7............ done. Flipping cluster...... done\n",
      "i = 8............ done. Flipping cluster...... done\n",
      "i = 9............ done. Flipping cluster...... done\n",
      "i = 10............ done. Flipping cluster...... done\n",
      "i = 11............ done. Flipping cluster...... done\n",
      "i = 12............ done. Flipping cluster...... done\n",
      "i = 13............ done. Flipping cluster...... done\n",
      "i = 14............ done. Flipping cluster...... done\n",
      "i = 15............ done. Flipping cluster...... done\n",
      "i = 16............ done. Flipping cluster...... done\n",
      "i = 17............ done. Flipping cluster...... done\n",
      "i = 18............ done. Flipping cluster...... done\n",
      "i = 19............ done. Flipping cluster...... done\n",
      "i = 20............ done. Flipping cluster...... done\n",
      "i = 21............ done. Flipping cluster...... done\n",
      "i = 22............ done. Flipping cluster...... done\n",
      "i = 23............ done. Flipping cluster...... done\n",
      "i = 24............ done. Flipping cluster...... done\n",
      "i = 25............ done. Flipping cluster...... done\n",
      "i = 26............ done. Flipping cluster...... done\n",
      "i = 27............ done. Flipping cluster...... done\n",
      "i = 28............ done. Flipping cluster...... done\n",
      "i = 29............ done. Flipping cluster...... done\n",
      "i = 30............ done. Flipping cluster...... done\n",
      "i = 31............ done. Flipping cluster...... done\n",
      "i = 32............ done. Flipping cluster...... done\n",
      "i = 33............ done. Flipping cluster...... done\n",
      "i = 34............ done. Flipping cluster...... done\n",
      "i = 35............ done. Flipping cluster...... done\n",
      "i = 36............ done. Flipping cluster...... done\n",
      "i = 37............ done. Flipping cluster...... done\n",
      "i = 38............ done. Flipping cluster...... done\n",
      "i = 39............ done. Flipping cluster...... done\n",
      "i = 40............ done. Flipping cluster...... done\n",
      "i = 41............ done. Flipping cluster...... done\n",
      "i = 42............ done. Flipping cluster...... done\n",
      "i = 43............ done. Flipping cluster...... done\n",
      "i = 44............ done. Flipping cluster...... done\n",
      "i = 45............ done. Flipping cluster...... done\n",
      "i = 46............ done. Flipping cluster...... done\n",
      "i = 47............ done. Flipping cluster...... done\n",
      "i = 48............ done. Flipping cluster...... done\n",
      "i = 49............ done. Flipping cluster...... done\n",
      "i = 50............ done. Flipping cluster...... done\n",
      "i = 51............ done. Flipping cluster...... done\n",
      "i = 52............ done. Flipping cluster...... done\n",
      "i = 53............ done. Flipping cluster...... done\n",
      "i = 54............ done. Flipping cluster...... done\n",
      "i = 55............ done. Flipping cluster...... done\n",
      "i = 56............ done. Flipping cluster...... done\n",
      "i = 57............ done. Flipping cluster...... done\n",
      "i = 58............ done. Flipping cluster...... done\n",
      "i = 59............ done. Flipping cluster...... done\n",
      "i = 60............ done. Flipping cluster...... done\n",
      "i = 61............ done. Flipping cluster...... done\n",
      "i = 62............ done. Flipping cluster...... done\n",
      "i = 63............ done. Flipping cluster...... done\n",
      "i = 64............ done. Flipping cluster...... done\n",
      "i = 65............ done. Flipping cluster...... done\n",
      "i = 66............ done. Flipping cluster...... done\n",
      "i = 67............ done. Flipping cluster...... done\n",
      "i = 68............ done. Flipping cluster...... done\n",
      "i = 69............ done. Flipping cluster...... done\n",
      "i = 70............ done. Flipping cluster...... done\n",
      "i = 71............ done. Flipping cluster...... done\n",
      "i = 72............ done. Flipping cluster...... done\n",
      "i = 73............ done. Flipping cluster...... done\n",
      "i = 74............ done. Flipping cluster...... done\n",
      "i = 75............ done. Flipping cluster...... done\n",
      "i = 76............ done. Flipping cluster...... done\n",
      "i = 77............ done. Flipping cluster...... done\n",
      "i = 78............ done. Flipping cluster...... done\n",
      "i = 79............ done. Flipping cluster...... done\n",
      "i = 80............ done. Flipping cluster...... done\n",
      "i = 81............ done. Flipping cluster...... done\n",
      "i = 82............ done. Flipping cluster...... done\n",
      "i = 83............ done. Flipping cluster...... done\n",
      "i = 84............ done. Flipping cluster...... done\n",
      "i = 85............ done. Flipping cluster...... done\n",
      "i = 86............ done. Flipping cluster...... done\n",
      "i = 87............ done. Flipping cluster...... done\n",
      "i = 88............ done. Flipping cluster...... done\n",
      "i = 89............ done. Flipping cluster...... done\n",
      "i = 90............ done. Flipping cluster...... done\n",
      "i = 91............ done. Flipping cluster...... done\n",
      "i = 92............ done. Flipping cluster...... done\n",
      "i = 93............ done. Flipping cluster...... done\n",
      "i = 94............ done. Flipping cluster...... done\n",
      "i = 95............ done. Flipping cluster...... done\n",
      "i = 96............ done. Flipping cluster...... done\n",
      "i = 97............ done. Flipping cluster...... done\n",
      "i = 98............ done. Flipping cluster...... done\n",
      "i = 99............ done. Flipping cluster...... done\n",
      "i = 0............ done. Flipping cluster...... done\n",
      "i = 1............ done. Flipping cluster...... done\n",
      "i = 2............ done. Flipping cluster...... done\n",
      "i = 3............ done. Flipping cluster......"
     ]
    },
    {
     "ename": "KeyboardInterrupt",
     "evalue": "",
     "output_type": "error",
     "traceback": [
      "\u001b[0;31m---------------------------------------------------------------------------\u001b[0m",
      "\u001b[0;31mKeyboardInterrupt\u001b[0m                         Traceback (most recent call last)",
      "\u001b[0;32m<ipython-input-7-82708f936c23>\u001b[0m in \u001b[0;36m<module>\u001b[0;34m()\u001b[0m\n\u001b[0;32m----> 1\u001b[0;31m \u001b[0mget_ipython\u001b[0m\u001b[0;34m(\u001b[0m\u001b[0;34m)\u001b[0m\u001b[0;34m.\u001b[0m\u001b[0mrun_cell_magic\u001b[0m\u001b[0;34m(\u001b[0m\u001b[0;34mu'timeit'\u001b[0m\u001b[0;34m,\u001b[0m \u001b[0;34mu''\u001b[0m\u001b[0;34m,\u001b[0m \u001b[0;34mu'\\nX,Y=np.meshgrid(range(100),range(100))\\ncpt = 0\\nfor i in xrange(steps):\\n    print \"i = \"+str(i)+\"............\",\\n    if i%snap==0:\\n        f = plt.figure(figsize=(10,10), dpi=80)\\n        f.suptitle(\"Iteration \"+str(i)+\" with beta = \"+str(config.beta))\\n        plt.pcolormesh(X,Y,config.spinsxy(), cmap=plt.cm.RdBu)\\n        f.savefig(\"./movie/\"+str(cpt)+\".png\")\\n        plt.close()\\n        cpt+=1\\n    print \"done. Flipping cluster......\",\\n    config.cluster_mc()\\n    print \"done\"'\u001b[0m\u001b[0;34m)\u001b[0m\u001b[0;34m\u001b[0m\u001b[0m\n\u001b[0m",
      "\u001b[0;32m/usr/local/lib/python2.7/dist-packages/IPython/core/interactiveshell.pyc\u001b[0m in \u001b[0;36mrun_cell_magic\u001b[0;34m(self, magic_name, line, cell)\u001b[0m\n\u001b[1;32m   2113\u001b[0m             \u001b[0mmagic_arg_s\u001b[0m \u001b[0;34m=\u001b[0m \u001b[0mself\u001b[0m\u001b[0;34m.\u001b[0m\u001b[0mvar_expand\u001b[0m\u001b[0;34m(\u001b[0m\u001b[0mline\u001b[0m\u001b[0;34m,\u001b[0m \u001b[0mstack_depth\u001b[0m\u001b[0;34m)\u001b[0m\u001b[0;34m\u001b[0m\u001b[0m\n\u001b[1;32m   2114\u001b[0m             \u001b[0;32mwith\u001b[0m \u001b[0mself\u001b[0m\u001b[0;34m.\u001b[0m\u001b[0mbuiltin_trap\u001b[0m\u001b[0;34m:\u001b[0m\u001b[0;34m\u001b[0m\u001b[0m\n\u001b[0;32m-> 2115\u001b[0;31m                 \u001b[0mresult\u001b[0m \u001b[0;34m=\u001b[0m \u001b[0mfn\u001b[0m\u001b[0;34m(\u001b[0m\u001b[0mmagic_arg_s\u001b[0m\u001b[0;34m,\u001b[0m \u001b[0mcell\u001b[0m\u001b[0;34m)\u001b[0m\u001b[0;34m\u001b[0m\u001b[0m\n\u001b[0m\u001b[1;32m   2116\u001b[0m             \u001b[0;32mreturn\u001b[0m \u001b[0mresult\u001b[0m\u001b[0;34m\u001b[0m\u001b[0m\n\u001b[1;32m   2117\u001b[0m \u001b[0;34m\u001b[0m\u001b[0m\n",
      "\u001b[0;32m<decorator-gen-58>\u001b[0m in \u001b[0;36mtimeit\u001b[0;34m(self, line, cell)\u001b[0m\n",
      "\u001b[0;32m/usr/local/lib/python2.7/dist-packages/IPython/core/magic.pyc\u001b[0m in \u001b[0;36m<lambda>\u001b[0;34m(f, *a, **k)\u001b[0m\n\u001b[1;32m    186\u001b[0m     \u001b[0;31m# but it's overkill for just that one bit of state.\u001b[0m\u001b[0;34m\u001b[0m\u001b[0;34m\u001b[0m\u001b[0m\n\u001b[1;32m    187\u001b[0m     \u001b[0;32mdef\u001b[0m \u001b[0mmagic_deco\u001b[0m\u001b[0;34m(\u001b[0m\u001b[0marg\u001b[0m\u001b[0;34m)\u001b[0m\u001b[0;34m:\u001b[0m\u001b[0;34m\u001b[0m\u001b[0m\n\u001b[0;32m--> 188\u001b[0;31m         \u001b[0mcall\u001b[0m \u001b[0;34m=\u001b[0m \u001b[0;32mlambda\u001b[0m \u001b[0mf\u001b[0m\u001b[0;34m,\u001b[0m \u001b[0;34m*\u001b[0m\u001b[0ma\u001b[0m\u001b[0;34m,\u001b[0m \u001b[0;34m**\u001b[0m\u001b[0mk\u001b[0m\u001b[0;34m:\u001b[0m \u001b[0mf\u001b[0m\u001b[0;34m(\u001b[0m\u001b[0;34m*\u001b[0m\u001b[0ma\u001b[0m\u001b[0;34m,\u001b[0m \u001b[0;34m**\u001b[0m\u001b[0mk\u001b[0m\u001b[0;34m)\u001b[0m\u001b[0;34m\u001b[0m\u001b[0m\n\u001b[0m\u001b[1;32m    189\u001b[0m \u001b[0;34m\u001b[0m\u001b[0m\n\u001b[1;32m    190\u001b[0m         \u001b[0;32mif\u001b[0m \u001b[0mcallable\u001b[0m\u001b[0;34m(\u001b[0m\u001b[0marg\u001b[0m\u001b[0;34m)\u001b[0m\u001b[0;34m:\u001b[0m\u001b[0;34m\u001b[0m\u001b[0m\n",
      "\u001b[0;32m/usr/local/lib/python2.7/dist-packages/IPython/core/magics/execution.pyc\u001b[0m in \u001b[0;36mtimeit\u001b[0;34m(self, line, cell)\u001b[0m\n\u001b[1;32m   1047\u001b[0m                     \u001b[0;32mbreak\u001b[0m\u001b[0;34m\u001b[0m\u001b[0m\n\u001b[1;32m   1048\u001b[0m                 \u001b[0mnumber\u001b[0m \u001b[0;34m*=\u001b[0m \u001b[0;36m10\u001b[0m\u001b[0;34m\u001b[0m\u001b[0m\n\u001b[0;32m-> 1049\u001b[0;31m         \u001b[0mall_runs\u001b[0m \u001b[0;34m=\u001b[0m \u001b[0mtimer\u001b[0m\u001b[0;34m.\u001b[0m\u001b[0mrepeat\u001b[0m\u001b[0;34m(\u001b[0m\u001b[0mrepeat\u001b[0m\u001b[0;34m,\u001b[0m \u001b[0mnumber\u001b[0m\u001b[0;34m)\u001b[0m\u001b[0;34m\u001b[0m\u001b[0m\n\u001b[0m\u001b[1;32m   1050\u001b[0m         \u001b[0mbest\u001b[0m \u001b[0;34m=\u001b[0m \u001b[0mmin\u001b[0m\u001b[0;34m(\u001b[0m\u001b[0mall_runs\u001b[0m\u001b[0;34m)\u001b[0m \u001b[0;34m/\u001b[0m \u001b[0mnumber\u001b[0m\u001b[0;34m\u001b[0m\u001b[0m\n\u001b[1;32m   1051\u001b[0m \u001b[0;34m\u001b[0m\u001b[0m\n",
      "\u001b[0;32m/usr/lib/python2.7/timeit.pyc\u001b[0m in \u001b[0;36mrepeat\u001b[0;34m(self, repeat, number)\u001b[0m\n\u001b[1;32m    228\u001b[0m         \u001b[0mr\u001b[0m \u001b[0;34m=\u001b[0m \u001b[0;34m[\u001b[0m\u001b[0;34m]\u001b[0m\u001b[0;34m\u001b[0m\u001b[0m\n\u001b[1;32m    229\u001b[0m         \u001b[0;32mfor\u001b[0m \u001b[0mi\u001b[0m \u001b[0;32min\u001b[0m \u001b[0mrange\u001b[0m\u001b[0;34m(\u001b[0m\u001b[0mrepeat\u001b[0m\u001b[0;34m)\u001b[0m\u001b[0;34m:\u001b[0m\u001b[0;34m\u001b[0m\u001b[0m\n\u001b[0;32m--> 230\u001b[0;31m             \u001b[0mt\u001b[0m \u001b[0;34m=\u001b[0m \u001b[0mself\u001b[0m\u001b[0;34m.\u001b[0m\u001b[0mtimeit\u001b[0m\u001b[0;34m(\u001b[0m\u001b[0mnumber\u001b[0m\u001b[0;34m)\u001b[0m\u001b[0;34m\u001b[0m\u001b[0m\n\u001b[0m\u001b[1;32m    231\u001b[0m             \u001b[0mr\u001b[0m\u001b[0;34m.\u001b[0m\u001b[0mappend\u001b[0m\u001b[0;34m(\u001b[0m\u001b[0mt\u001b[0m\u001b[0;34m)\u001b[0m\u001b[0;34m\u001b[0m\u001b[0m\n\u001b[1;32m    232\u001b[0m         \u001b[0;32mreturn\u001b[0m \u001b[0mr\u001b[0m\u001b[0;34m\u001b[0m\u001b[0m\n",
      "\u001b[0;32m/usr/local/lib/python2.7/dist-packages/IPython/core/magics/execution.pyc\u001b[0m in \u001b[0;36mtimeit\u001b[0;34m(self, number)\u001b[0m\n\u001b[1;32m    137\u001b[0m         \u001b[0mgc\u001b[0m\u001b[0;34m.\u001b[0m\u001b[0mdisable\u001b[0m\u001b[0;34m(\u001b[0m\u001b[0;34m)\u001b[0m\u001b[0;34m\u001b[0m\u001b[0m\n\u001b[1;32m    138\u001b[0m         \u001b[0;32mtry\u001b[0m\u001b[0;34m:\u001b[0m\u001b[0;34m\u001b[0m\u001b[0m\n\u001b[0;32m--> 139\u001b[0;31m             \u001b[0mtiming\u001b[0m \u001b[0;34m=\u001b[0m \u001b[0mself\u001b[0m\u001b[0;34m.\u001b[0m\u001b[0minner\u001b[0m\u001b[0;34m(\u001b[0m\u001b[0mit\u001b[0m\u001b[0;34m,\u001b[0m \u001b[0mself\u001b[0m\u001b[0;34m.\u001b[0m\u001b[0mtimer\u001b[0m\u001b[0;34m)\u001b[0m\u001b[0;34m\u001b[0m\u001b[0m\n\u001b[0m\u001b[1;32m    140\u001b[0m         \u001b[0;32mfinally\u001b[0m\u001b[0;34m:\u001b[0m\u001b[0;34m\u001b[0m\u001b[0m\n\u001b[1;32m    141\u001b[0m             \u001b[0;32mif\u001b[0m \u001b[0mgcold\u001b[0m\u001b[0;34m:\u001b[0m\u001b[0;34m\u001b[0m\u001b[0m\n",
      "\u001b[0;32m<magic-timeit>\u001b[0m in \u001b[0;36minner\u001b[0;34m(_it, _timer)\u001b[0m\n",
      "\u001b[0;32m<ipython-input-2-772c175cffa2>\u001b[0m in \u001b[0;36mcluster_mc\u001b[0;34m(self)\u001b[0m\n\u001b[1;32m     36\u001b[0m \u001b[0;34m\u001b[0m\u001b[0m\n\u001b[1;32m     37\u001b[0m     \u001b[0;32mdef\u001b[0m \u001b[0mcluster_mc\u001b[0m\u001b[0;34m(\u001b[0m\u001b[0mself\u001b[0m\u001b[0;34m)\u001b[0m\u001b[0;34m:\u001b[0m\u001b[0;34m\u001b[0m\u001b[0m\n\u001b[0;32m---> 38\u001b[0;31m         \u001b[0mcluster\u001b[0m \u001b[0;34m=\u001b[0m \u001b[0mself\u001b[0m\u001b[0;34m.\u001b[0m\u001b[0mbuild_cluster\u001b[0m\u001b[0;34m(\u001b[0m\u001b[0;34m)\u001b[0m\u001b[0;34m\u001b[0m\u001b[0m\n\u001b[0m\u001b[1;32m     39\u001b[0m         \u001b[0mself\u001b[0m\u001b[0;34m.\u001b[0m\u001b[0mspins\u001b[0m\u001b[0;34m[\u001b[0m\u001b[0mcluster\u001b[0m\u001b[0;34m]\u001b[0m\u001b[0;34m*=\u001b[0m\u001b[0;34m-\u001b[0m\u001b[0;36m1\u001b[0m\u001b[0;34m\u001b[0m\u001b[0m\n\u001b[1;32m     40\u001b[0m \u001b[0;34m\u001b[0m\u001b[0m\n",
      "\u001b[0;32m<ipython-input-2-772c175cffa2>\u001b[0m in \u001b[0;36mbuild_cluster\u001b[0;34m(self)\u001b[0m\n\u001b[1;32m     29\u001b[0m             \u001b[0;32mfor\u001b[0m \u001b[0mneighbor\u001b[0m \u001b[0;32min\u001b[0m \u001b[0mself\u001b[0m\u001b[0;34m.\u001b[0m\u001b[0mnbr\u001b[0m\u001b[0;34m[\u001b[0m\u001b[0mspin\u001b[0m\u001b[0;34m]\u001b[0m\u001b[0;34m:\u001b[0m\u001b[0;34m\u001b[0m\u001b[0m\n\u001b[1;32m     30\u001b[0m                 \u001b[0mneigh\u001b[0m \u001b[0;34m=\u001b[0m \u001b[0mself\u001b[0m\u001b[0;34m.\u001b[0m\u001b[0msite\u001b[0m\u001b[0;34m[\u001b[0m\u001b[0mneighbor\u001b[0m\u001b[0;34m]\u001b[0m\u001b[0;34m\u001b[0m\u001b[0m\n\u001b[0;32m---> 31\u001b[0;31m                 \u001b[0;32mif\u001b[0m \u001b[0mneigh\u001b[0m \u001b[0;32mnot\u001b[0m \u001b[0;32min\u001b[0m \u001b[0mcluster\u001b[0m \u001b[0;32mand\u001b[0m \u001b[0mself\u001b[0m\u001b[0;34m.\u001b[0m\u001b[0mspins\u001b[0m\u001b[0;34m[\u001b[0m\u001b[0mneigh\u001b[0m\u001b[0;34m]\u001b[0m\u001b[0;34m==\u001b[0m\u001b[0mself\u001b[0m\u001b[0;34m.\u001b[0m\u001b[0mspins\u001b[0m\u001b[0;34m[\u001b[0m\u001b[0mspin\u001b[0m\u001b[0;34m]\u001b[0m\u001b[0;34m:\u001b[0m\u001b[0;34m\u001b[0m\u001b[0m\n\u001b[0m\u001b[1;32m     32\u001b[0m                     \u001b[0;32mif\u001b[0m \u001b[0mnp\u001b[0m\u001b[0;34m.\u001b[0m\u001b[0mrandom\u001b[0m\u001b[0;34m.\u001b[0m\u001b[0mrand\u001b[0m\u001b[0;34m(\u001b[0m\u001b[0;36m1.0\u001b[0m\u001b[0;34m)\u001b[0m\u001b[0;34m<\u001b[0m\u001b[0mp\u001b[0m\u001b[0;34m:\u001b[0m\u001b[0;34m\u001b[0m\u001b[0m\n\u001b[1;32m     33\u001b[0m                         \u001b[0mpocket\u001b[0m\u001b[0;34m.\u001b[0m\u001b[0mappend\u001b[0m\u001b[0;34m(\u001b[0m\u001b[0mneigh\u001b[0m\u001b[0;34m)\u001b[0m\u001b[0;34m\u001b[0m\u001b[0m\n",
      "\u001b[0;31mKeyboardInterrupt\u001b[0m: "
     ]
    }
   ],
   "source": [
    "%%timeit\n",
    "\n",
    "X,Y=np.meshgrid(range(100),range(100))\n",
    "cpt = 0\n",
    "for i in xrange(steps):\n",
    "    print \"i = \"+str(i)+\"............\",\n",
    "    if i%snap==0:\n",
    "        f = plt.figure(figsize=(10,10), dpi=80)\n",
    "        f.suptitle(\"Iteration \"+str(i)+\" with beta = \"+str(config.beta))\n",
    "        plt.pcolormesh(X,Y,config.spinsxy(), cmap=plt.cm.RdBu)\n",
    "        f.savefig(\"./movie/\"+str(cpt)+\".png\")\n",
    "        plt.close()\n",
    "        cpt+=1\n",
    "    print \"done. Flipping cluster......\",\n",
    "    config.cluster_mc()\n",
    "    print \"done\""
   ]
  },
  {
   "cell_type": "code",
   "execution_count": 15,
   "metadata": {
    "collapsed": false
   },
   "outputs": [
    {
     "data": {
      "text/plain": [
       "120"
      ]
     },
     "execution_count": 15,
     "metadata": {},
     "output_type": "execute_result"
    }
   ],
   "source": [
    "i"
   ]
  },
  {
   "cell_type": "code",
   "execution_count": 16,
   "metadata": {
    "collapsed": false
   },
   "outputs": [
    {
     "data": {
      "text/plain": [
       "100"
      ]
     },
     "execution_count": 16,
     "metadata": {},
     "output_type": "execute_result"
    }
   ],
   "source": [
    "steps"
   ]
  },
  {
   "cell_type": "code",
   "execution_count": 17,
   "metadata": {
    "collapsed": false
   },
   "outputs": [
    {
     "data": {
      "text/plain": [
       "0"
      ]
     },
     "execution_count": 17,
     "metadata": {},
     "output_type": "execute_result"
    }
   ],
   "source": []
  },
  {
   "cell_type": "code",
   "execution_count": null,
   "metadata": {
    "collapsed": true
   },
   "outputs": [],
   "source": []
  }
 ],
 "metadata": {
  "kernelspec": {
   "display_name": "Python 2",
   "language": "python",
   "name": "python2"
  },
  "language_info": {
   "codemirror_mode": {
    "name": "ipython",
    "version": 2
   },
   "file_extension": ".py",
   "mimetype": "text/x-python",
   "name": "python",
   "nbconvert_exporter": "python",
   "pygments_lexer": "ipython2",
   "version": "2.7.12"
  }
 },
 "nbformat": 4,
 "nbformat_minor": 1
}
