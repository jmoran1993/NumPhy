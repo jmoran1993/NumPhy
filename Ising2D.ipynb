{
 "cells": [
  {
   "cell_type": "code",
   "execution_count": 1,
   "metadata": {
    "collapsed": false
   },
   "outputs": [],
   "source": [
    "import numpy as np\n",
    "import matplotlib.pyplot as plt\n",
    "import matplotlib.animation as anim"
   ]
  },
  {
   "cell_type": "code",
   "execution_count": 72,
   "metadata": {
    "collapsed": false
   },
   "outputs": [],
   "source": [
    "class ising2d(object):\n",
    "    \n",
    "    def __init__(self, size, beta, J, H):\n",
    "        self.size = size\n",
    "        self.beta = beta\n",
    "        self.J = J\n",
    "        self.H = H\n",
    "        self.spins = np.random.randint(0,2,(size,size))*2.0-1.0\n",
    "        self.neighbors = np.asarray([[[[(i+1)%size,j], [(i-1)%size,j], [i,(j+1)%size], [i,(j-1)%size]]\\\n",
    "                          for i in xrange(size)] for j in xrange(size)])\n",
    "        \n",
    "    def build_cluster(self):\n",
    "        p = 1.-np.exp(-2*self.beta)\n",
    "        i,j = np.random.randint(0,self.size),np.random.randint(0,self.size)\n",
    "        pocket = [[i,j]]\n",
    "        cluster = [[i,j]]\n",
    "        while len(pocket)!=0:\n",
    "            spin = pocket.pop()\n",
    "            for neighbor in self.neighbors[spin[0],spin[1]]:\n",
    "                if neighbor not in cluster:\n",
    "                    if np.random.rand(1.0)<p:\n",
    "                        pocket.append(neighbor)\n",
    "                        cluster.append(neighbor)\n",
    "        return cluster\n",
    "    \n",
    "    def clustermc(self):\n",
    "        cluster = self.build_cluster()\n",
    "        for spin in cluster:\n",
    "            self.spins[spin]*=-1.0\n",
    "        \n",
    "    def site_energy(self, i,j):\n",
    "        energy = -self.spins[i,j]*self.H\n",
    "        energy += -self.J*self.spins[i,j]*(self.spins[(i+1)%self.size,j]+self.spins[(i-1)%self.size,j]+\\\n",
    "                                           self.spins[i,(j+1)%self.size]+self.spins[i,(j-1)%self.size])\n",
    "        return energy\n",
    "    \n",
    "    def delta_energy(self,i,j):\n",
    "        \"\"\"Returns new energy minus old energy after flipping spin i,j\"\"\"\n",
    "        return -2*self.site_energy(i,j)\n",
    "        \n",
    "    def mcstep(self):\n",
    "        i,j = np.random.randint(0,self.size), np.random.randint(0,self.size)\n",
    "        rate = min(1.0,np.exp(-self.beta*self.delta_energy(i,j)))\n",
    "        if np.random.rand(1.0)<rate:\n",
    "            self.spins[i,j]*= -1.0\n",
    "            \n",
    "    def disp_config(self):\n",
    "        X,Y = np.meshgrid(range(self.size),range(self.size))\n",
    "        f = plt.figure(figsize=(10,10), dpi=80)\n",
    "        f.suptitle(\"Ising 2-D configuration of size \"+str(self.size)+\" with J=\"+str(self.J)+\", beta=\"+str(self.beta)\\\n",
    "                  +\" and H=\"+str(self.H))\n",
    "        plt.pcolormesh(X, Y, self.spins, cmap=plt.cm.RdBu);\n",
    "        return f"
   ]
  },
  {
   "cell_type": "code",
   "execution_count": 73,
   "metadata": {
    "collapsed": false
   },
   "outputs": [],
   "source": [
    "J = 8.0\n",
    "beta = 8.0\n",
    "size = 50\n",
    "H = 0"
   ]
  },
  {
   "cell_type": "code",
   "execution_count": 74,
   "metadata": {
    "collapsed": false
   },
   "outputs": [],
   "source": [
    "config = ising2d(size,beta,J,H)"
   ]
  },
  {
   "cell_type": "code",
   "execution_count": 75,
   "metadata": {
    "collapsed": false
   },
   "outputs": [
    {
     "ename": "ValueError",
     "evalue": "The truth value of an array with more than one element is ambiguous. Use a.any() or a.all()",
     "output_type": "error",
     "traceback": [
      "\u001b[0;31m---------------------------------------------------------------------------\u001b[0m",
      "\u001b[0;31mValueError\u001b[0m                                Traceback (most recent call last)",
      "\u001b[0;32m<ipython-input-75-bd174d235486>\u001b[0m in \u001b[0;36m<module>\u001b[0;34m()\u001b[0m\n\u001b[0;32m----> 1\u001b[0;31m \u001b[0mconfig\u001b[0m\u001b[0;34m.\u001b[0m\u001b[0mbuild_cluster\u001b[0m\u001b[0;34m(\u001b[0m\u001b[0;34m)\u001b[0m\u001b[0;34m\u001b[0m\u001b[0m\n\u001b[0m",
      "\u001b[0;32m<ipython-input-72-d5676e75bf51>\u001b[0m in \u001b[0;36mbuild_cluster\u001b[0;34m(self)\u001b[0m\n\u001b[1;32m     17\u001b[0m             \u001b[0mspin\u001b[0m \u001b[0;34m=\u001b[0m \u001b[0mpocket\u001b[0m\u001b[0;34m.\u001b[0m\u001b[0mpop\u001b[0m\u001b[0;34m(\u001b[0m\u001b[0;34m)\u001b[0m\u001b[0;34m\u001b[0m\u001b[0m\n\u001b[1;32m     18\u001b[0m             \u001b[0;32mfor\u001b[0m \u001b[0mneighbor\u001b[0m \u001b[0;32min\u001b[0m \u001b[0mself\u001b[0m\u001b[0;34m.\u001b[0m\u001b[0mneighbors\u001b[0m\u001b[0;34m[\u001b[0m\u001b[0mspin\u001b[0m\u001b[0;34m[\u001b[0m\u001b[0;36m0\u001b[0m\u001b[0;34m]\u001b[0m\u001b[0;34m,\u001b[0m\u001b[0mspin\u001b[0m\u001b[0;34m[\u001b[0m\u001b[0;36m1\u001b[0m\u001b[0;34m]\u001b[0m\u001b[0;34m]\u001b[0m\u001b[0;34m:\u001b[0m\u001b[0;34m\u001b[0m\u001b[0m\n\u001b[0;32m---> 19\u001b[0;31m                 \u001b[0;32mif\u001b[0m \u001b[0mneighbor\u001b[0m \u001b[0;32mnot\u001b[0m \u001b[0;32min\u001b[0m \u001b[0mcluster\u001b[0m\u001b[0;34m:\u001b[0m\u001b[0;34m\u001b[0m\u001b[0m\n\u001b[0m\u001b[1;32m     20\u001b[0m                     \u001b[0;32mif\u001b[0m \u001b[0mnp\u001b[0m\u001b[0;34m.\u001b[0m\u001b[0mrandom\u001b[0m\u001b[0;34m.\u001b[0m\u001b[0mrand\u001b[0m\u001b[0;34m(\u001b[0m\u001b[0;36m1.0\u001b[0m\u001b[0;34m)\u001b[0m\u001b[0;34m<\u001b[0m\u001b[0mp\u001b[0m\u001b[0;34m:\u001b[0m\u001b[0;34m\u001b[0m\u001b[0m\n\u001b[1;32m     21\u001b[0m                         \u001b[0mpocket\u001b[0m\u001b[0;34m.\u001b[0m\u001b[0mappend\u001b[0m\u001b[0;34m(\u001b[0m\u001b[0mneighbor\u001b[0m\u001b[0;34m)\u001b[0m\u001b[0;34m\u001b[0m\u001b[0m\n",
      "\u001b[0;31mValueError\u001b[0m: The truth value of an array with more than one element is ambiguous. Use a.any() or a.all()"
     ]
    }
   ],
   "source": [
    "config.build_cluster()"
   ]
  },
  {
   "cell_type": "code",
   "execution_count": 71,
   "metadata": {
    "collapsed": false
   },
   "outputs": [],
   "source": [
    "spin = [0,0]\n",
    "if spin not in [[0,0],[1,0]]:\n",
    "    print 2"
   ]
  },
  {
   "cell_type": "code",
   "execution_count": 5,
   "metadata": {
    "collapsed": true
   },
   "outputs": [],
   "source": [
    "steps = 50000\n",
    "snap = 100"
   ]
  },
  {
   "cell_type": "code",
   "execution_count": 8,
   "metadata": {
    "collapsed": false
   },
   "outputs": [
    {
     "name": "stderr",
     "output_type": "stream",
     "text": [
      "/usr/local/lib/python2.7/dist-packages/ipykernel/__main__.py:22: VisibleDeprecationWarning: using a non-integer number instead of an integer will result in an error in the future\n",
      "/usr/local/lib/python2.7/dist-packages/ipykernel/__main__.py:21: RuntimeWarning: overflow encountered in exp\n"
     ]
    }
   ],
   "source": [
    "X,Y=np.meshgrid(range(config.size),range(config.size))\n",
    "cpt = 0\n",
    "for i in xrange(steps):\n",
    "    if i%snap==0:\n",
    "        f = plt.figure(figsize=(10,10), dpi=80)\n",
    "        f.suptitle(\"Iteration \"+str(i)+\" with beta = \"+str(config.beta)+\" and J=\"+str(J))\n",
    "        plt.pcolormesh(X,Y,config.spins, cmap=plt.cm.RdBu)\n",
    "        f.savefig(\"./movie/\"+str(cpt)+\".png\")\n",
    "        plt.close()\n",
    "        cpt+=1\n",
    "    config.mcstep()"
   ]
  },
  {
   "cell_type": "code",
   "execution_count": 7,
   "metadata": {
    "collapsed": true
   },
   "outputs": [],
   "source": [
    "config.beta = 12.0"
   ]
  },
  {
   "cell_type": "code",
   "execution_count": 9,
   "metadata": {
    "collapsed": false
   },
   "outputs": [
    {
     "name": "stderr",
     "output_type": "stream",
     "text": [
      "/usr/local/lib/python2.7/dist-packages/ipykernel/__main__.py:22: VisibleDeprecationWarning: using a non-integer number instead of an integer will result in an error in the future\n"
     ]
    }
   ],
   "source": [
    "X,Y=np.meshgrid(range(config.size),range(config.size))\n",
    "cpt = 0\n",
    "for i in xrange(steps):\n",
    "    if i%snap==0:\n",
    "        f = plt.figure(figsize=(10,10), dpi=80)\n",
    "        f.suptitle(\"Iteration \"+str(i)+\" with beta = \"+str(config.beta)+\" and J=\"+str(J))\n",
    "        plt.pcolormesh(X,Y,config.spins, cmap=plt.cm.RdBu)\n",
    "        f.savefig(\"./movie/\"+str(cpt)+\".png\")\n",
    "        plt.close()\n",
    "        cpt+=1\n",
    "    config.mcstep()"
   ]
  },
  {
   "cell_type": "code",
   "execution_count": null,
   "metadata": {
    "collapsed": true
   },
   "outputs": [],
   "source": []
  }
 ],
 "metadata": {
  "kernelspec": {
   "display_name": "Python 2",
   "language": "python",
   "name": "python2"
  },
  "language_info": {
   "codemirror_mode": {
    "name": "ipython",
    "version": 2
   },
   "file_extension": ".py",
   "mimetype": "text/x-python",
   "name": "python",
   "nbconvert_exporter": "python",
   "pygments_lexer": "ipython2",
   "version": "2.7.12"
  }
 },
 "nbformat": 4,
 "nbformat_minor": 0
}
