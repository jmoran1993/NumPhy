{
 "cells": [
  {
   "cell_type": "code",
   "execution_count": 2,
   "metadata": {
    "collapsed": false
   },
   "outputs": [
    {
     "name": "stdout",
     "output_type": "stream",
     "text": [
      "Populating the interactive namespace from numpy and matplotlib\n"
     ]
    }
   ],
   "source": [
    "%pylab inline\n",
    "import numpy as np "
   ]
  },
  {
   "cell_type": "code",
   "execution_count": 17,
   "metadata": {
    "collapsed": false
   },
   "outputs": [],
   "source": []
  },
  {
   "cell_type": "code",
   "execution_count": 21,
   "metadata": {
    "collapsed": false
   },
   "outputs": [
    {
     "name": "stdout",
     "output_type": "stream",
     "text": [
      "CPU times: user 96 ms, sys: 280 ms, total: 376 ms\n",
      "Wall time: 56.2 ms\n"
     ]
    }
   ],
   "source": [
    "%%time \n",
    "FT=delta_x/np.sqrt(2*pi)*np.exp(-1j*k_grid.T*x_grid)\n",
    "iFT = delta_k/np.sqrt(2*pi)*np.exp(1j*x_grid.T*k_grid)"
   ]
  },
  {
   "cell_type": "code",
   "execution_count": 22,
   "metadata": {
    "collapsed": false
   },
   "outputs": [
    {
     "data": {
      "text/plain": [
       "(512, 512)"
      ]
     },
     "execution_count": 22,
     "metadata": {},
     "output_type": "execute_result"
    }
   ],
   "source": [
    "shape(k_grid.T*x_grid)"
   ]
  },
  {
   "cell_type": "code",
   "execution_count": 23,
   "metadata": {
    "collapsed": false
   },
   "outputs": [
    {
     "data": {
      "text/plain": [
       "matrix([[  7.84310722e-03 -2.08052468e-20j,\n",
       "           7.84231362e-03 -3.93023288e-19j,\n",
       "           7.83993313e-03 -3.79470760e-19j, ...,\n",
       "          -1.54389261e-05 +1.54159996e-19j,\n",
       "          -3.00394252e-08 +2.76979774e-19j,\n",
       "           1.53185688e-05 -2.46380709e-19j],\n",
       "        [  7.84231362e-03 +3.93023288e-19j,\n",
       "           7.84310722e-03 +9.46344252e-20j,\n",
       "           7.84231362e-03 +1.35525272e-20j, ...,\n",
       "          -3.08990743e-05 -1.88888347e-19j,\n",
       "          -1.54389261e-05 +1.53392373e-19j,\n",
       "          -3.00394252e-08 +1.66865491e-19j],\n",
       "        [  7.83993313e-03 +3.93023288e-19j,\n",
       "           7.84231362e-03 +1.08420217e-19j,\n",
       "           7.84310722e-03 +1.84626713e-20j, ...,\n",
       "          -4.64014016e-05 +4.99855318e-19j,\n",
       "          -3.08990743e-05 -3.08319993e-19j,\n",
       "          -1.54389261e-05 +4.06575815e-20j],\n",
       "        ..., \n",
       "        [ -1.54389261e-05 -9.65617560e-20j,\n",
       "          -3.08990743e-05 +1.06726151e-19j,\n",
       "          -4.64014016e-05 -4.74338450e-19j, ...,\n",
       "           7.84310722e-03 +1.75626988e-20j,\n",
       "           7.84231362e-03 -1.35525272e-20j,\n",
       "           7.83993313e-03 -5.42101086e-20j],\n",
       "        [ -3.00394252e-08 -2.49027686e-19j,\n",
       "          -1.54389261e-05 +3.10887561e-20j,\n",
       "          -3.08990743e-05 +2.54109884e-19j, ...,\n",
       "           7.84231362e-03 -2.71050543e-20j,\n",
       "           7.84310722e-03 +2.33711610e-20j,\n",
       "           7.84231362e-03 -4.87890978e-19j],\n",
       "        [  1.53185688e-05 +2.46380709e-19j,\n",
       "          -3.00394252e-08 -1.78723952e-19j,\n",
       "          -1.54389261e-05 -5.08219768e-21j, ...,\n",
       "           7.83993313e-03 +9.48676901e-20j,\n",
       "           7.84231362e-03 +5.01443505e-19j,\n",
       "           7.84310722e-03 +2.08052468e-20j]])"
      ]
     },
     "execution_count": 23,
     "metadata": {},
     "output_type": "execute_result"
    }
   ],
   "source": [
    "FT*iFT"
   ]
  },
  {
   "cell_type": "code",
   "execution_count": 38,
   "metadata": {
    "collapsed": false
   },
   "outputs": [
    {
     "data": {
      "text/plain": [
       "(1, 512)"
      ]
     },
     "execution_count": 38,
     "metadata": {},
     "output_type": "execute_result"
    }
   ],
   "source": [
    "shape(np.matrix(x_grid))"
   ]
  },
  {
   "cell_type": "code",
   "execution_count": null,
   "metadata": {
    "collapsed": true
   },
   "outputs": [],
   "source": []
  }
 ],
 "metadata": {
  "kernelspec": {
   "display_name": "Python 2",
   "language": "python",
   "name": "python2"
  },
  "language_info": {
   "codemirror_mode": {
    "name": "ipython",
    "version": 2
   },
   "file_extension": ".py",
   "mimetype": "text/x-python",
   "name": "python",
   "nbconvert_exporter": "python",
   "pygments_lexer": "ipython2",
   "version": "2.7.12"
  }
 },
 "nbformat": 4,
 "nbformat_minor": 1
}
