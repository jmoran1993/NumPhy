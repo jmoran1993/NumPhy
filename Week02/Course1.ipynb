{
 "cells": [
  {
   "cell_type": "code",
   "execution_count": 1,
   "metadata": {
    "collapsed": false
   },
   "outputs": [
    {
     "name": "stdout",
     "output_type": "stream",
     "text": [
      "Populating the interactive namespace from numpy and matplotlib\n"
     ]
    }
   ],
   "source": [
    "%pylab inline"
   ]
  },
  {
   "cell_type": "code",
   "execution_count": 2,
   "metadata": {
    "collapsed": true
   },
   "outputs": [],
   "source": [
    "import math, numpy "
   ]
  },
  {
   "cell_type": "code",
   "execution_count": 15,
   "metadata": {
    "collapsed": false
   },
   "outputs": [
    {
     "data": {
      "image/png": "[encoded data removed]",
      "text/plain": [
       "<matplotlib.figure.Figure at 0x7f07543bf490>"
      ]
     },
     "metadata": {},
     "output_type": "display_data"
    }
   ],
   "source": [
    "import pylab,math,numpy\n",
    "Ntime = 10000\n",
    "L = 32\n",
    "dt = 0.01\n",
    "def HARMONIC(u,n):\n",
    " return u[n+1]+u[n-1]-2.*u[n]\n",
    "def FT(e,k):\n",
    " return sum([e[n]*math.sin(n*k*math.pi/L) for n in range(1,L)])/math.sqrt(L/2.)\n",
    "#initial condition for the position u and velocity v\n",
    "u = [0]+[L*math.sin(n*math.pi/L) for n in range(1,L)]+[0]\n",
    "v = [0. for n in range(L+1)]\n",
    "mode1 = []\n",
    "#dynamics with fixed boundary conditions: u[0] = u[L-1] = 0\n",
    "for itime in range(Ntime):\n",
    " oldu = u[:]\n",
    " oldv = v[:]\n",
    " v = [0]+[oldv[n]+dt*HARMONIC(oldu,n) for n in range(1,L)]+[0]\n",
    " u = [0]+[oldu[n]+dt*v[n] for n in range(1,L)]+[0]\n",
    " k = 1; en1 = FT(v,k)**2/2.+2.*(math.sin(k*math.pi/(2*L)))**2*FT(u,k)**2\n",
    " #k = 2; en2 = FT(v,k)**2/2.+2.*(math.sin(k*math.pi/(2*L)))**2*FT(u,k)**2\n",
    " mode1.append(en1)\n",
    "pylab.xlabel('time')\n",
    "pylab.ylabel('E_1, energy of mode 1')\n",
    "time = [dt*itime for itime in range(Ntime)]\n",
    "exact = [L*(L*math.sin(math.pi/(2*L)))**2 for itime in range(Ntime)]\n",
    "pylab.plot(time,exact,'b-')\n",
    "pylab.plot(time,mode1,'r-')\n",
    "pylab.axis([0,Ntime*dt,78,79])\n",
    "pylab.show()"
   ]
  },
  {
   "cell_type": "code",
   "execution_count": 5,
   "metadata": {
    "collapsed": false
   },
   "outputs": [
    {
     "data": {
      "text/plain": [
       "[0, 1]"
      ]
     },
     "execution_count": 5,
     "metadata": {},
     "output_type": "execute_result"
    }
   ],
   "source": []
  },
  {
   "cell_type": "code",
   "execution_count": null,
   "metadata": {
    "collapsed": true
   },
   "outputs": [],
   "source": []
  }
 ],
 "metadata": {
  "kernelspec": {
   "display_name": "Python 2",
   "language": "python",
   "name": "python2"
  },
  "language_info": {
   "codemirror_mode": {
    "name": "ipython",
    "version": 2
   },
   "file_extension": ".py",
   "mimetype": "text/x-python",
   "name": "python",
   "nbconvert_exporter": "python",
   "pygments_lexer": "ipython2",
   "version": "2.7.12"
  }
 },
 "nbformat": 4,
 "nbformat_minor": 1
}
