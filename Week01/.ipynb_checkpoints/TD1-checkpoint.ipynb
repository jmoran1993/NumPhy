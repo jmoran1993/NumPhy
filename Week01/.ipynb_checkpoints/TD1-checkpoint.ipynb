{
 "cells": [
  {
   "cell_type": "markdown",
   "metadata": {},
   "source": [
    "# TD1\n",
    "\n",
    "##  Tutorial : The Markov matrix and the exponential convergence \n",
    "\n",
    "All information available on [this link](http://lptms.u-psud.fr/membres/groux/Test/TD1_2016.html)"
   ]
  },
  {
   "cell_type": "code",
   "execution_count": 2,
   "metadata": {
    "collapsed": false
   },
   "outputs": [
    {
     "name": "stdout",
     "output_type": "stream",
     "text": [
      "[[ 0.5   0.25  0.    0.25  0.    0.    0.    0.    0.  ]\n",
      " [ 0.25  0.25  0.25  0.    0.25  0.    0.    0.    0.  ]\n",
      " [ 0.    0.25  0.5   0.    0.    0.25  0.    0.    0.  ]\n",
      " [ 0.25  0.    0.    0.25  0.25  0.    0.25  0.    0.  ]\n",
      " [ 0.    0.25  0.    0.25  0.    0.25  0.    0.25  0.  ]\n",
      " [ 0.    0.    0.25  0.    0.25  0.25  0.    0.    0.25]\n",
      " [ 0.    0.    0.    0.25  0.    0.    0.5   0.25  0.  ]\n",
      " [ 0.    0.    0.    0.    0.25  0.    0.25  0.25  0.25]\n",
      " [ 0.    0.    0.    0.    0.    0.25  0.    0.25  0.5 ]]\n"
     ]
    }
   ],
   "source": [
    "import numpy as np\n",
    "\n",
    "# open boundary conditions\n",
    "neighbor =  [[1, 3, 0, 0], [2, 4, 0, 1], [2, 5, 1, 2],\n",
    "             [4, 6, 3, 0], [5, 7, 3, 1], [5, 8, 4, 2],\n",
    "             [7, 6, 6, 3], [8, 7, 6, 4], [8, 8, 7, 5]]\n",
    "\n",
    "# uncomment to use periodic boundary conditions\n",
    "#neighbor =  [[1, 3, 6, 2], [2, 4, 0, 7], [1, 5, 0, 8],\n",
    "#             [4, 6, 5, 0], [5, 7, 3, 1], [3, 8, 4, 2],\n",
    "#             [7, 0, 8, 3], [8, 1, 6, 4], [6, 2, 7, 5]]\n",
    "\n",
    "transfer = np.zeros((9, 9))  # creates 9x9 matrix full of zeroes\n",
    "for a in range(9):\n",
    "    for b in neighbor[a]: \n",
    "        transfer[b, a] += 0.25\n",
    "print(transfer)\n",
    "\n"
   ]
  },
  {
   "cell_type": "code",
   "execution_count": 14,
   "metadata": {
    "collapsed": false
   },
   "outputs": [
    {
     "name": "stdout",
     "output_type": "stream",
     "text": [
      "[[ 0.5    0.219  0.     0.219  0.     0.     0.     0.     0.   ]\n",
      " [ 0.25   0.312  0.25   0.     0.167  0.     0.     0.     0.   ]\n",
      " [ 0.     0.219  0.5    0.     0.     0.219  0.     0.     0.   ]\n",
      " [ 0.25   0.     0.     0.312  0.167  0.     0.25   0.     0.   ]\n",
      " [ 0.     0.25   0.     0.25   0.333  0.25   0.     0.25   0.   ]\n",
      " [ 0.     0.     0.25   0.     0.167  0.312  0.     0.     0.25 ]\n",
      " [ 0.     0.     0.     0.219  0.     0.     0.5    0.219  0.   ]\n",
      " [ 0.     0.     0.     0.     0.167  0.     0.25   0.312  0.25 ]\n",
      " [ 0.     0.     0.     0.     0.     0.219  0.     0.219  0.5  ]]\n",
      "summing columns\n",
      "[1.0, 1.0, 1.0, 1.0, 1.0, 1.0, 1.0, 1.0, 1.0]\n",
      "summing rows\n",
      "[0.9375, 0.97916666666666663, 0.9375, 0.97916666666666663, 1.3333333333333335, 0.97916666666666663, 0.9375, 0.97916666666666663, 0.9375]\n"
     ]
    }
   ],
   "source": [
    "bias = 0.5\n",
    "def weight(x):\n",
    "    if x in [0,2,6,8]: return (1.-bias/4.)/9.\n",
    "    elif x is 4: return (1.+bias)/9.\n",
    "    else: return (1.)/9.\n",
    "\n",
    "np.set_printoptions(precision=3)\n",
    "A = 1.0/4.0 # smaller than 0.25 to ensure positivity of all elements\n",
    "        # 1/4 ensures that one recovers the connectivity matrix without bias         \n",
    "transfer2 = np.zeros((9, 9))\n",
    "for a in range(9):\n",
    "    for b in neighbor[a]:\n",
    "        if b is not a:\n",
    "            transfer2[b, a] = A * min(1.0,weight(b)/weight(a))\n",
    "for a in range(9):\n",
    "    transfer2[a, a] = 1.0 - sum(transfer2[:,a])\n",
    "\n",
    "print(transfer2)\n",
    "\n",
    "print(\"summing columns\")\n",
    "print([ sum(transfer2[:,j]) for j in range(9)])\n",
    "print(\"summing rows\")\n",
    "print([ sum(transfer2[j,:]) for j in range(9)])\n",
    "\n"
   ]
  },
  {
   "cell_type": "code",
   "execution_count": 3,
   "metadata": {
    "collapsed": false
   },
   "outputs": [],
   "source": [
    "import sys"
   ]
  },
  {
   "cell_type": "code",
   "execution_count": null,
   "metadata": {
    "collapsed": true
   },
   "outputs": [],
   "source": []
  }
 ],
 "metadata": {
  "kernelspec": {
   "display_name": "Python 2",
   "language": "python",
   "name": "python2"
  },
  "language_info": {
   "codemirror_mode": {
    "name": "ipython",
    "version": 2
   },
   "file_extension": ".py",
   "mimetype": "text/x-python",
   "name": "python",
   "nbconvert_exporter": "python",
   "pygments_lexer": "ipython2",
   "version": "2.7.12"
  }
 },
 "nbformat": 4,
 "nbformat_minor": 0
}
