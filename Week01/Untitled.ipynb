{
 "cells": [
  {
   "cell_type": "code",
   "execution_count": 1,
   "metadata": {
    "collapsed": false
   },
   "outputs": [
    {
     "name": "stdout",
     "output_type": "stream",
     "text": [
      "Populating the interactive namespace from numpy and matplotlib\n"
     ]
    }
   ],
   "source": [
    "import numpy as np\n",
    "import matplotlib.pyplot as plt \n",
    "np.set_printoptions(precision = 4, suppress=True)\n",
    "%pylab inline "
   ]
  },
  {
   "cell_type": "code",
   "execution_count": 2,
   "metadata": {
    "collapsed": false
   },
   "outputs": [
    {
     "data": {
      "text/plain": [
       "array([ 0.1,  0.2,  0.3,  0.4,  0.5,  0.6,  0.7,  0.8,  0.9,  1. ,  1.1,\n",
       "        1.2,  1.3,  1.4,  1.5,  1.6,  1.7,  1.8,  1.9,  2. ,  2.1,  2.2,\n",
       "        2.3,  2.4,  2.5,  2.6,  2.7,  2.8,  2.9,  3. ,  3.1,  3.2,  3.3,\n",
       "        3.4,  3.5,  3.6,  3.7,  3.8,  3.9,  4. ,  4.1,  4.2,  4.3,  4.4,\n",
       "        4.5,  4.6,  4.7,  4.8,  4.9,  5. ])"
      ]
     },
     "execution_count": 2,
     "metadata": {},
     "output_type": "execute_result"
    }
   ],
   "source": [
    "np.arange(0.1,5.1,0.1)"
   ]
  },
  {
   "cell_type": "markdown",
   "metadata": {},
   "source": [
    "<img src=\"http://npac2016.wikispaces.com/file/view/PRank4.png/590255878/PRank4.png\" alt=\"Drawing\" style=\"width: 400px;\"/>"
   ]
  },
  {
   "cell_type": "code",
   "execution_count": 3,
   "metadata": {
    "collapsed": true
   },
   "outputs": [],
   "source": [
    "#neighbors[i] is the list of pages that i has a link to\n",
    "neighbors = np.asarray([[1,2],[0,3],[3,0],[2,1,4],[]])\n",
    "\n",
    "#transfer matrices for first and second prescriptions : \n",
    "transfer1, transfer2 = np.zeros((5,5)), np.zeros((5,5))\n",
    "#number of links per page\n",
    "links= np.zeros(5)\n",
    "for i in xrange(5):\n",
    "    links[i]=len(neighbors[i])"
   ]
  },
  {
   "cell_type": "code",
   "execution_count": 4,
   "metadata": {
    "collapsed": true
   },
   "outputs": [],
   "source": [
    "for a in xrange(5):\n",
    "    for b in neighbors[a]:\n",
    "        transfer1[b,a] = 1/links[a]\n",
    "        transfer2[b,a] = 1/links[a]\n",
    "    if links[a]==0:\n",
    "        transfer1[b,b]=1\n",
    "        for b in range(5):\n",
    "            transfer2[b,a] = 1/4. if b!=a else 0"
   ]
  },
  {
   "cell_type": "code",
   "execution_count": 5,
   "metadata": {
    "collapsed": false
   },
   "outputs": [
    {
     "data": {
      "text/plain": [
       "array([[ 0.    ,  0.5   ,  0.5   ,  0.    ,  0.    ],\n",
       "       [ 0.5   ,  0.    ,  0.    ,  0.3333,  0.    ],\n",
       "       [ 0.5   ,  0.    ,  0.    ,  0.3333,  0.    ],\n",
       "       [ 0.    ,  0.5   ,  0.5   ,  0.    ,  0.    ],\n",
       "       [ 0.    ,  0.    ,  0.    ,  0.3333,  1.    ]])"
      ]
     },
     "execution_count": 5,
     "metadata": {},
     "output_type": "execute_result"
    }
   ],
   "source": [
    "transfer1"
   ]
  },
  {
   "cell_type": "code",
   "execution_count": 6,
   "metadata": {
    "collapsed": false
   },
   "outputs": [
    {
     "name": "stdout",
     "output_type": "stream",
     "text": [
      "summing columns\n",
      "[1.0, 1.0, 1.0, 1.0, 1.0]\n",
      "[1.0, 1.0, 1.0, 1.0, 1.0]\n"
     ]
    }
   ],
   "source": [
    "#check for normalization of the transfer matrices\n",
    "print(\"summing columns\")\n",
    "print([ sum(transfer1[:,j]) for j in range(5)])\n",
    "print([ sum(transfer2[:,j]) for j in range(5)])"
   ]
  },
  {
   "cell_type": "code",
   "execution_count": 7,
   "metadata": {
    "collapsed": true
   },
   "outputs": [],
   "source": [
    "w1, v1 = np.linalg.eig(transfer1)\n",
    "w2, v2 = np.linalg.eig(transfer2)"
   ]
  },
  {
   "cell_type": "code",
   "execution_count": 14,
   "metadata": {
    "collapsed": false
   },
   "outputs": [
    {
     "name": "stdout",
     "output_type": "stream",
     "text": [
      "Eigenvalues of the transfer matrix for the first prescription \n",
      "[ 1.     -0.9129  0.9129 -0.     -0.    ]\n",
      "Eigenvalues of the transfer matrix for the second prescription \n",
      "[-0.9082  1.     -0.0918  0.      0.    ]\n"
     ]
    }
   ],
   "source": [
    "print \"Eigenvalues of the transfer matrix for the first prescription \"\n",
    "print w1\n",
    "print \"Eigenvalues of the transfer matrix for the second prescription \"\n",
    "print w2"
   ]
  },
  {
   "cell_type": "code",
   "execution_count": 15,
   "metadata": {
    "collapsed": false
   },
   "outputs": [
    {
     "name": "stdout",
     "output_type": "stream",
     "text": [
      "[ 0.  0.  0.  0.  1.]\n"
     ]
    }
   ],
   "source": [
    "prank1 = v1[:,0]/np.sum(v1[:,0])\n",
    "print prank1"
   ]
  },
  {
   "cell_type": "code",
   "execution_count": 16,
   "metadata": {
    "collapsed": false
   },
   "outputs": [
    {
     "name": "stdout",
     "output_type": "stream",
     "text": [
      "[ 0.24  0.22  0.22  0.24  0.08]\n"
     ]
    }
   ],
   "source": [
    "prank2 = v2[:,1]/np.sum(v2[:,1])\n",
    "print prank2"
   ]
  },
  {
   "cell_type": "raw",
   "metadata": {},
   "source": []
  },
  {
   "cell_type": "code",
   "execution_count": 17,
   "metadata": {
    "collapsed": false
   },
   "outputs": [
    {
     "data": {
      "text/plain": [
       "[0]"
      ]
     },
     "execution_count": 17,
     "metadata": {},
     "output_type": "execute_result"
    }
   ],
   "source": [
    "range(1)"
   ]
  },
  {
   "cell_type": "code",
   "execution_count": 18,
   "metadata": {
    "collapsed": true
   },
   "outputs": [],
   "source": [
    "neighbors = [[1,5],[0,5],[0],[0],[0,2],[7],[5],[6,5]]\n",
    "#damping \n",
    "d = 0.85\n",
    "links= np.zeros(8)\n",
    "for i in xrange(8):\n",
    "    links[i]=len(neighbors[i])"
   ]
  },
  {
   "cell_type": "code",
   "execution_count": 23,
   "metadata": {
    "collapsed": false
   },
   "outputs": [
    {
     "name": "stdout",
     "output_type": "stream",
     "text": [
      "======================================================\n",
      "Naive ranking results : top to bottom \n",
      "Page 6: links received : 4.0\n",
      "Page 1: links received : 4.0\n",
      "Page 8: links received : 1.0\n",
      "Page 7: links received : 1.0\n",
      "Page 3: links received : 1.0\n",
      "Page 2: links received : 1.0\n",
      "Page 5: links received : 0.0\n",
      "Page 4: links received : 0.0\n",
      "======================================================\n"
     ]
    }
   ],
   "source": [
    "#Naive ranking : we rank by links received : \n",
    "\n",
    "received = np.zeros(8)\n",
    "for page in xrange(8):\n",
    "    for link in neighbors[page]:received[link]+=1\n",
    "        \n",
    "print \"======================================================\"\n",
    "print \"Naive ranking results : top to bottom \"\n",
    "for t in received.argsort()[::-1]:\n",
    "    print \"Page \"+str(t+1)+\": links received : \"+str(received[t])\n",
    "print \"======================================================\""
   ]
  },
  {
   "cell_type": "code",
   "execution_count": 30,
   "metadata": {
    "collapsed": false
   },
   "outputs": [],
   "source": [
    "transfer = np.zeros((8,8))\n",
    "for a in xrange(8):\n",
    "    for b in neighbors[a]:\n",
    "        transfer[b,a] = 1/links[a]"
   ]
  },
  {
   "cell_type": "code",
   "execution_count": 31,
   "metadata": {
    "collapsed": false
   },
   "outputs": [],
   "source": [
    "transfer = d*transfer + (1-d)/8*np.ones(8)"
   ]
  },
  {
   "cell_type": "code",
   "execution_count": 32,
   "metadata": {
    "collapsed": false
   },
   "outputs": [
    {
     "data": {
      "text/plain": [
       "array([[ 0.0188,  0.4437,  0.8688,  0.8688,  0.4437,  0.0188,  0.0188,\n",
       "         0.0188],\n",
       "       [ 0.4437,  0.0188,  0.0188,  0.0188,  0.0188,  0.0188,  0.0188,\n",
       "         0.0188],\n",
       "       [ 0.0188,  0.0188,  0.0188,  0.0188,  0.4437,  0.0188,  0.0188,\n",
       "         0.0188],\n",
       "       [ 0.0188,  0.0188,  0.0188,  0.0188,  0.0188,  0.0188,  0.0188,\n",
       "         0.0188],\n",
       "       [ 0.0188,  0.0188,  0.0188,  0.0188,  0.0188,  0.0188,  0.0188,\n",
       "         0.0188],\n",
       "       [ 0.4437,  0.4437,  0.0188,  0.0188,  0.0188,  0.0188,  0.8688,\n",
       "         0.4437],\n",
       "       [ 0.0188,  0.0188,  0.0188,  0.0188,  0.0188,  0.0188,  0.0188,\n",
       "         0.4437],\n",
       "       [ 0.0188,  0.0188,  0.0188,  0.0188,  0.0188,  0.8688,  0.0188,\n",
       "         0.0188]])"
      ]
     },
     "execution_count": 32,
     "metadata": {},
     "output_type": "execute_result"
    }
   ],
   "source": [
    "transfer"
   ]
  },
  {
   "cell_type": "code",
   "execution_count": 33,
   "metadata": {
    "collapsed": false
   },
   "outputs": [
    {
     "name": "stdout",
     "output_type": "stream",
     "text": [
      "summing columns\n",
      "[1.0, 1.0, 1.0, 1.0, 1.0, 1.0, 1.0, 1.0]\n"
     ]
    }
   ],
   "source": [
    "#check for normalization of the transfer matrices\n",
    "print(\"summing columns\")\n",
    "print([ sum(transfer[:,j]) for j in range(8)])"
   ]
  },
  {
   "cell_type": "code",
   "execution_count": 34,
   "metadata": {
    "collapsed": true
   },
   "outputs": [],
   "source": [
    "w, v = np.linalg.eig(transfer)"
   ]
  },
  {
   "cell_type": "code",
   "execution_count": 35,
   "metadata": {
    "collapsed": false
   },
   "outputs": [
    {
     "name": "stdout",
     "output_type": "stream",
     "text": [
      "[ 1.000+0.j     0.425+0.j    -0.425+0.425j -0.425-0.425j -0.425+0.j\n",
      "  0.000+0.j    -0.000+0.j    -0.000+0.j   ]\n"
     ]
    }
   ],
   "source": [
    "print w"
   ]
  },
  {
   "cell_type": "code",
   "execution_count": 36,
   "metadata": {
    "collapsed": true
   },
   "outputs": [],
   "source": [
    "prank = v[:,0]/np.sum(v[:,0])"
   ]
  },
  {
   "cell_type": "code",
   "execution_count": 38,
   "metadata": {
    "collapsed": false
   },
   "outputs": [
    {
     "data": {
      "text/plain": [
       "(0.99999999999999989+0j)"
      ]
     },
     "execution_count": 38,
     "metadata": {},
     "output_type": "execute_result"
    }
   ],
   "source": []
  },
  {
   "cell_type": "code",
   "execution_count": null,
   "metadata": {
    "collapsed": true
   },
   "outputs": [],
   "source": []
  }
 ],
 "metadata": {
  "kernelspec": {
   "display_name": "Python 2",
   "language": "python",
   "name": "python2"
  },
  "language_info": {
   "codemirror_mode": {
    "name": "ipython",
    "version": 2
   },
   "file_extension": ".py",
   "mimetype": "text/x-python",
   "name": "python",
   "nbconvert_exporter": "python",
   "pygments_lexer": "ipython2",
   "version": "2.7.12"
  }
 },
 "nbformat": 4,
 "nbformat_minor": 1
}
