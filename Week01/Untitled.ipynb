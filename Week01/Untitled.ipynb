{
 "cells": [
  {
   "cell_type": "code",
   "execution_count": 1,
   "metadata": {
    "collapsed": true
   },
   "outputs": [],
   "source": [
    "import numpy as np\n",
    "import matplotlib.pyplot as plt\n",
    "np.set_printoptions(precision = 4, suppress=True)"
   ]
  },
  {
   "cell_type": "code",
   "execution_count": 2,
   "metadata": {
    "collapsed": false
   },
   "outputs": [
    {
     "name": "stdout",
     "output_type": "stream",
     "text": [
      "Populating the interactive namespace from numpy and matplotlib\n"
     ]
    }
   ],
   "source": [
    "%pylab inline"
   ]
  },
  {
   "cell_type": "code",
   "execution_count": 3,
   "metadata": {
    "collapsed": true
   },
   "outputs": [],
   "source": [
    "neighbor =  [[1, 3, 0, 0], [2, 4, 0, 1], [2, 5, 1, 2],\n",
    "             [4, 6, 3, 0], [5, 7, 3, 1], [5, 8, 4, 2],\n",
    "             [7, 6, 6, 3], [8, 7, 6, 4], [8, 8, 7, 5]]"
   ]
  },
  {
   "cell_type": "code",
   "execution_count": 4,
   "metadata": {
    "collapsed": false
   },
   "outputs": [],
   "source": [
    "neighbor = np.asarray(neighbor)"
   ]
  },
  {
   "cell_type": "code",
   "execution_count": 5,
   "metadata": {
    "collapsed": false
   },
   "outputs": [],
   "source": [
    "links=np.zeros(9)\n",
    "for i in xrange(9):\n",
    "    links[i]=np.sum(neighbor[i]!=i)"
   ]
  },
  {
   "cell_type": "code",
   "execution_count": 6,
   "metadata": {
    "collapsed": false
   },
   "outputs": [
    {
     "data": {
      "text/plain": [
       "array([ 2.,  3.,  2.,  3.,  4.,  3.,  2.,  3.,  2.])"
      ]
     },
     "execution_count": 6,
     "metadata": {},
     "output_type": "execute_result"
    }
   ],
   "source": [
    "links"
   ]
  },
  {
   "cell_type": "code",
   "execution_count": 7,
   "metadata": {
    "collapsed": false
   },
   "outputs": [
    {
     "name": "stdout",
     "output_type": "stream",
     "text": [
      "[[ 0.      0.3333  0.      0.3333  0.      0.      0.      0.      0.    ]\n",
      " [ 0.5     0.      0.5     0.      0.25    0.      0.      0.      0.    ]\n",
      " [ 0.      0.3333  0.      0.      0.      0.3333  0.      0.      0.    ]\n",
      " [ 0.5     0.      0.      0.      0.25    0.      0.5     0.      0.    ]\n",
      " [ 0.      0.3333  0.      0.3333  0.      0.3333  0.      0.3333  0.    ]\n",
      " [ 0.      0.      0.5     0.      0.25    0.      0.      0.      0.5   ]\n",
      " [ 0.      0.      0.      0.3333  0.      0.      0.      0.3333  0.    ]\n",
      " [ 0.      0.      0.      0.      0.25    0.      0.5     0.      0.5   ]\n",
      " [ 0.      0.      0.      0.      0.      0.3333  0.      0.3333  0.    ]]\n"
     ]
    }
   ],
   "source": [
    "transfer = np.zeros((9,9))\n",
    "for a in xrange(9):\n",
    "    for b in neighbor[a]:\n",
    "        transfer[b,a] = 1/links[a] if b!=a else 0\n",
    "\n",
    "print transfer"
   ]
  },
  {
   "cell_type": "code",
   "execution_count": 8,
   "metadata": {
    "collapsed": false
   },
   "outputs": [
    {
     "name": "stdout",
     "output_type": "stream",
     "text": [
      "summing columns\n",
      "[1.0, 1.0, 1.0, 1.0, 1.0, 1.0, 1.0, 1.0, 1.0]\n",
      "summing rows\n",
      "[0.66666666666666663, 1.25, 0.66666666666666663, 1.25, 1.3333333333333333, 1.25, 0.66666666666666663, 1.25, 0.66666666666666663]\n"
     ]
    }
   ],
   "source": [
    "print(\"summing columns\")\n",
    "print([ sum(transfer[:,j]) for j in range(9)])\n",
    "print(\"summing rows\")\n",
    "print([ sum(transfer[j,:]) for j in range(9)])"
   ]
  },
  {
   "cell_type": "code",
   "execution_count": 9,
   "metadata": {
    "collapsed": false
   },
   "outputs": [
    {
     "data": {
      "text/plain": [
       "array([ 0.   ,  1.125,  2.25 ,  3.375,  4.5  ,  5.625,  6.75 ,  7.875,  9.   ])"
      ]
     },
     "execution_count": 9,
     "metadata": {},
     "output_type": "execute_result"
    }
   ],
   "source": [
    "np.linspace(0,9,9)"
   ]
  },
  {
   "cell_type": "code",
   "execution_count": 10,
   "metadata": {
    "collapsed": true
   },
   "outputs": [],
   "source": [
    "position = 1/9.*np.ones(9)\n",
    "for i in range(100):\n",
    "    position = np.dot(transfer,position)\n",
    "\n"
   ]
  },
  {
   "cell_type": "code",
   "execution_count": 11,
   "metadata": {
    "collapsed": false
   },
   "outputs": [
    {
     "data": {
      "text/plain": [
       "array([ 0.0926,  0.1111,  0.0926,  0.1111,  0.1852,  0.1111,  0.0926,\n",
       "        0.1111,  0.0926])"
      ]
     },
     "execution_count": 11,
     "metadata": {},
     "output_type": "execute_result"
    }
   ],
   "source": [
    "position"
   ]
  },
  {
   "cell_type": "code",
   "execution_count": 12,
   "metadata": {
    "collapsed": false
   },
   "outputs": [
    {
     "data": {
      "image/png": "[encoded data removed]",
      "text/plain": [
       "<matplotlib.figure.Figure at 0x7f8eab6795d0>"
      ]
     },
     "metadata": {},
     "output_type": "display_data"
    }
   ],
   "source": [
    "plt.bar(range(9),position,width=0.9)\n",
    "plt.ylim(0,1)\n",
    "plt.grid()\n",
    "plt.show()"
   ]
  },
  {
   "cell_type": "code",
   "execution_count": 13,
   "metadata": {
    "collapsed": false
   },
   "outputs": [
    {
     "data": {
      "text/plain": [
       "1.0"
      ]
     },
     "execution_count": 13,
     "metadata": {},
     "output_type": "execute_result"
    }
   ],
   "source": [
    "sum(position)"
   ]
  },
  {
   "cell_type": "code",
   "execution_count": 14,
   "metadata": {
    "collapsed": false
   },
   "outputs": [
    {
     "data": {
      "text/plain": [
       "array([ 1.0000+0.j, -1.0000+0.j, -0.5774+0.j, -0.5774+0.j,  0.5774+0.j,\n",
       "        0.5774+0.j,  0.0000+0.j,  0.0000-0.j,  0.0000+0.j])"
      ]
     },
     "execution_count": 14,
     "metadata": {},
     "output_type": "execute_result"
    }
   ],
   "source": [
    "w, v = np.linalg.eig(transfer)\n",
    "w"
   ]
  },
  {
   "cell_type": "code",
   "execution_count": null,
   "metadata": {
    "collapsed": false
   },
   "outputs": [],
   "source": []
  },
  {
   "cell_type": "code",
   "execution_count": 15,
   "metadata": {
    "collapsed": false
   },
   "outputs": [
    {
     "name": "stdout",
     "output_type": "stream",
     "text": [
      "0   [ 0.1111  0.1111  0.1111  0.1111  0.1111  0.1111  0.1111  0.1111  0.1111]\n",
      "1   [ 0.0741  0.1389  0.0741  0.1389  0.1481  0.1389  0.0741  0.1389  0.0741]\n",
      "2   [ 0.0926  0.1111  0.0926  0.1111  0.1852  0.1111  0.0926  0.1111  0.0926]\n",
      "3   [ 0.0741  0.1389  0.0741  0.1389  0.1481  0.1389  0.0741  0.1389  0.0741]\n",
      "4   [ 0.0926  0.1111  0.0926  0.1111  0.1852  0.1111  0.0926  0.1111  0.0926]\n",
      "5   [ 0.0741  0.1389  0.0741  0.1389  0.1481  0.1389  0.0741  0.1389  0.0741]\n",
      "6   [ 0.0926  0.1111  0.0926  0.1111  0.1852  0.1111  0.0926  0.1111  0.0926]\n",
      "7   [ 0.0741  0.1389  0.0741  0.1389  0.1481  0.1389  0.0741  0.1389  0.0741]\n",
      "8   [ 0.0926  0.1111  0.0926  0.1111  0.1852  0.1111  0.0926  0.1111  0.0926]\n",
      "9   [ 0.0741  0.1389  0.0741  0.1389  0.1481  0.1389  0.0741  0.1389  0.0741]\n",
      "10   [ 0.0926  0.1111  0.0926  0.1111  0.1852  0.1111  0.0926  0.1111  0.0926]\n",
      "20   [ 0.0926  0.1111  0.0926  0.1111  0.1852  0.1111  0.0926  0.1111  0.0926]\n",
      "30   [ 0.0926  0.1111  0.0926  0.1111  0.1852  0.1111  0.0926  0.1111  0.0926]\n",
      "40   [ 0.0926  0.1111  0.0926  0.1111  0.1852  0.1111  0.0926  0.1111  0.0926]\n",
      "50   [ 0.0926  0.1111  0.0926  0.1111  0.1852  0.1111  0.0926  0.1111  0.0926]\n",
      "60   [ 0.0926  0.1111  0.0926  0.1111  0.1852  0.1111  0.0926  0.1111  0.0926]\n",
      "70   [ 0.0926  0.1111  0.0926  0.1111  0.1852  0.1111  0.0926  0.1111  0.0926]\n",
      "80   [ 0.0926  0.1111  0.0926  0.1111  0.1852  0.1111  0.0926  0.1111  0.0926]\n",
      "90   [ 0.0926  0.1111  0.0926  0.1111  0.1852  0.1111  0.0926  0.1111  0.0926]\n"
     ]
    }
   ],
   "source": [
    "np.set_printoptions(precision = 4, suppress=True)\n",
    "position = 1/9.*np.ones(9)\n",
    "\n",
    "for t in range(100):\n",
    "    if t<10 or not t%10:\n",
    "        print t, \" \", position\n",
    "    position = np.dot(transfer, position)"
   ]
  },
  {
   "cell_type": "code",
   "execution_count": 16,
   "metadata": {
    "collapsed": false
   },
   "outputs": [
    {
     "data": {
      "image/png": "[encoded data removed]",
      "text/plain": [
       "<matplotlib.figure.Figure at 0x7f8eab6791d0>"
      ]
     },
     "metadata": {},
     "output_type": "display_data"
    }
   ],
   "source": [
    "plt.bar(range(9),position,width=0.9)\n",
    "plt.ylim(0,1)\n",
    "plt.grid()\n",
    "plt.show()"
   ]
  },
  {
   "cell_type": "code",
   "execution_count": 17,
   "metadata": {
    "collapsed": false
   },
   "outputs": [
    {
     "ename": "NameError",
     "evalue": "name 'eigval' is not defined",
     "output_type": "error",
     "traceback": [
      "\u001b[0;31m---------------------------------------------------------------------------\u001b[0m",
      "\u001b[0;31mNameError\u001b[0m                                 Traceback (most recent call last)",
      "\u001b[0;32m<ipython-input-17-2f68cc232cd0>\u001b[0m in \u001b[0;36m<module>\u001b[0;34m()\u001b[0m\n\u001b[0;32m----> 1\u001b[0;31m \u001b[0meigval\u001b[0m\u001b[0;34m\u001b[0m\u001b[0m\n\u001b[0m",
      "\u001b[0;31mNameError\u001b[0m: name 'eigval' is not defined"
     ]
    }
   ],
   "source": [
    "eigval"
   ]
  },
  {
   "cell_type": "code",
   "execution_count": 18,
   "metadata": {
    "collapsed": false
   },
   "outputs": [
    {
     "ename": "NameError",
     "evalue": "name 'eigvec' is not defined",
     "output_type": "error",
     "traceback": [
      "\u001b[0;31m---------------------------------------------------------------------------\u001b[0m",
      "\u001b[0;31mNameError\u001b[0m                                 Traceback (most recent call last)",
      "\u001b[0;32m<ipython-input-18-76d47ded6d39>\u001b[0m in \u001b[0;36m<module>\u001b[0;34m()\u001b[0m\n\u001b[0;32m----> 1\u001b[0;31m \u001b[0meigvec\u001b[0m\u001b[0;34m[\u001b[0m\u001b[0;36m0\u001b[0m\u001b[0;34m]\u001b[0m\u001b[0;34m\u001b[0m\u001b[0m\n\u001b[0m",
      "\u001b[0;31mNameError\u001b[0m: name 'eigvec' is not defined"
     ]
    }
   ],
   "source": [
    "eigvec[0]"
   ]
  },
  {
   "cell_type": "code",
   "execution_count": 19,
   "metadata": {
    "collapsed": false
   },
   "outputs": [
    {
     "name": "stderr",
     "output_type": "stream",
     "text": [
      "/usr/local/lib/python2.7/dist-packages/matplotlib/patches.py:643: ComplexWarning: Casting complex values to real discards the imaginary part\n",
      "  self._height = float(height)\n"
     ]
    },
    {
     "data": {
      "image/png": "[encoded data removed]",
      "text/plain": [
       "<matplotlib.figure.Figure at 0x7f8ea940cb50>"
      ]
     },
     "metadata": {},
     "output_type": "display_data"
    },
    {
     "name": "stderr",
     "output_type": "stream",
     "text": [
      "/usr/local/lib/python2.7/dist-packages/matplotlib/patches.py:641: ComplexWarning: Casting complex values to real discards the imaginary part\n",
      "  self._y = float(xy[1])\n"
     ]
    },
    {
     "data": {
      "image/png": "[encoded data removed]",
      "text/plain": [
       "<matplotlib.figure.Figure at 0x7f8ea92b3bd0>"
      ]
     },
     "metadata": {},
     "output_type": "display_data"
    }
   ],
   "source": [
    "for i in range (2):\n",
    "    plt.bar(range(9),-v[:,i])\n",
    "    plt.ylim(0,1)\n",
    "    plt.show()"
   ]
  },
  {
   "cell_type": "code",
   "execution_count": 20,
   "metadata": {
    "collapsed": false
   },
   "outputs": [
    {
     "name": "stdout",
     "output_type": "stream",
     "text": [
      "bingo\n",
      "bingo\n",
      "bingo\n",
      "bingo\n"
     ]
    }
   ],
   "source": [
    "tests = [4,6,7,8]\n",
    "for i in range(9):\n",
    "    if i in tests:\n",
    "        print \"bingo\""
   ]
  },
  {
   "cell_type": "code",
   "execution_count": 21,
   "metadata": {
    "collapsed": false
   },
   "outputs": [
    {
     "data": {
      "image/png": "[encoded data removed]",
      "text/plain": [
       "<matplotlib.figure.Figure at 0x7f8ea9190290>"
      ]
     },
     "metadata": {},
     "output_type": "display_data"
    }
   ],
   "source": [
    "plt.scatter(w.real,w.imag)\n",
    "plt.ylim(-2,2)\n",
    "plt.xlim(-2,2)\n",
    "plt.show()"
   ]
  },
  {
   "cell_type": "code",
   "execution_count": 22,
   "metadata": {
    "collapsed": false
   },
   "outputs": [
    {
     "data": {
      "text/plain": [
       "array([ 1.0000+0.j, -1.0000+0.j, -0.5774+0.j, -0.5774+0.j,  0.5774+0.j,\n",
       "        0.5774+0.j,  0.0000+0.j,  0.0000-0.j,  0.0000+0.j])"
      ]
     },
     "execution_count": 22,
     "metadata": {},
     "output_type": "execute_result"
    }
   ],
   "source": [
    "w"
   ]
  },
  {
   "cell_type": "code",
   "execution_count": 23,
   "metadata": {
    "collapsed": false
   },
   "outputs": [
    {
     "data": {
      "text/plain": [
       "array([ 0.0926,  0.1111,  0.0926,  0.1111,  0.1852,  0.1111,  0.0926,\n",
       "        0.1111,  0.0926])"
      ]
     },
     "execution_count": 23,
     "metadata": {},
     "output_type": "execute_result"
    }
   ],
   "source": [
    "position"
   ]
  },
  {
   "cell_type": "code",
   "execution_count": 24,
   "metadata": {
    "collapsed": false
   },
   "outputs": [],
   "source": [
    "def bar_plot(pos, it):\n",
    "    figure = plt.figure(figsize(10,8))\n",
    "    plt.bar(range(len(pos)), pos, width=0.95)\n",
    "    plt.axis([0,9,0,1])\n",
    "    plt.grid()\n",
    "    plt.xlabel(\"Page number\")\n",
    "    plt.ylabel(\"Page-rank probability\")\n",
    "    plt.title(\"Page-rank plot at t=\"+str(it))\n",
    "    plt.show()"
   ]
  },
  {
   "cell_type": "code",
   "execution_count": 25,
   "metadata": {
    "collapsed": false
   },
   "outputs": [
    {
     "data": {
      "image/png": "[encoded data removed]",
      "text/plain": [
       "<matplotlib.figure.Figure at 0x7f8ea917ee50>"
      ]
     },
     "metadata": {},
     "output_type": "display_data"
    }
   ],
   "source": [
    "bar_plot(position,0)"
   ]
  },
  {
   "cell_type": "code",
   "execution_count": 26,
   "metadata": {
    "collapsed": false
   },
   "outputs": [
    {
     "name": "stdout",
     "output_type": "stream",
     "text": [
      "[ 1.0000+0.j -1.0000+0.j -0.5774+0.j -0.5774+0.j  0.5774+0.j  0.5774+0.j\n",
      "  0.0000+0.j  0.0000-0.j  0.0000+0.j]\n"
     ]
    }
   ],
   "source": [
    "w, v = np.linalg.eig(transfer)\n",
    "print w"
   ]
  },
  {
   "cell_type": "code",
   "execution_count": 27,
   "metadata": {
    "collapsed": true
   },
   "outputs": [],
   "source": [
    "prank = v[:,0]/np.sum(v[:,0])\n",
    "antip = v[:,1]/np.sum(v[:,1])"
   ]
  },
  {
   "cell_type": "code",
   "execution_count": 28,
   "metadata": {
    "collapsed": false
   },
   "outputs": [
    {
     "data": {
      "text/plain": [
       "array([ 0.0833-0.j,  0.1250-0.j,  0.0833-0.j,  0.1250-0.j,  0.1667-0.j,\n",
       "        0.1250-0.j,  0.0833-0.j,  0.1250-0.j,  0.0833-0.j])"
      ]
     },
     "execution_count": 28,
     "metadata": {},
     "output_type": "execute_result"
    }
   ],
   "source": [
    "prank"
   ]
  },
  {
   "cell_type": "code",
   "execution_count": 29,
   "metadata": {
    "collapsed": true
   },
   "outputs": [],
   "source": [
    "ranks = np.asarray(zip(range(9),prank))"
   ]
  },
  {
   "cell_type": "code",
   "execution_count": 30,
   "metadata": {
    "collapsed": false
   },
   "outputs": [
    {
     "data": {
      "text/plain": [
       "array([[ 0.0000+0.j,  0.0833-0.j],\n",
       "       [ 1.0000+0.j,  0.1250-0.j],\n",
       "       [ 2.0000+0.j,  0.0833-0.j],\n",
       "       [ 3.0000+0.j,  0.1250-0.j],\n",
       "       [ 4.0000+0.j,  0.1667-0.j],\n",
       "       [ 5.0000+0.j,  0.1250-0.j],\n",
       "       [ 6.0000+0.j,  0.0833-0.j],\n",
       "       [ 7.0000+0.j,  0.1250-0.j],\n",
       "       [ 8.0000+0.j,  0.0833-0.j]])"
      ]
     },
     "execution_count": 30,
     "metadata": {},
     "output_type": "execute_result"
    }
   ],
   "source": [
    "ranks"
   ]
  },
  {
   "cell_type": "code",
   "execution_count": 31,
   "metadata": {
    "collapsed": false
   },
   "outputs": [
    {
     "data": {
      "text/plain": [
       "array([[ 0.0000+0.j,  0.0833-0.j],\n",
       "       [ 1.0000+0.j,  0.0833-0.j],\n",
       "       [ 2.0000+0.j,  0.0833-0.j],\n",
       "       [ 3.0000+0.j,  0.0833-0.j],\n",
       "       [ 4.0000+0.j,  0.1250-0.j],\n",
       "       [ 5.0000+0.j,  0.1250-0.j],\n",
       "       [ 6.0000+0.j,  0.1250-0.j],\n",
       "       [ 7.0000+0.j,  0.1250-0.j],\n",
       "       [ 8.0000+0.j,  0.1667-0.j]])"
      ]
     },
     "execution_count": 31,
     "metadata": {},
     "output_type": "execute_result"
    }
   ],
   "source": [
    "np.sort(ranks,0)"
   ]
  },
  {
   "cell_type": "code",
   "execution_count": 32,
   "metadata": {
    "collapsed": false
   },
   "outputs": [],
   "source": [
    "ranks = np.real(ranks)"
   ]
  },
  {
   "cell_type": "code",
   "execution_count": 33,
   "metadata": {
    "collapsed": false
   },
   "outputs": [
    {
     "data": {
      "text/plain": [
       "array([[ 0.    ,  0.0833],\n",
       "       [ 1.    ,  0.0833],\n",
       "       [ 2.    ,  0.0833],\n",
       "       [ 3.    ,  0.0833],\n",
       "       [ 4.    ,  0.125 ],\n",
       "       [ 5.    ,  0.125 ],\n",
       "       [ 6.    ,  0.125 ],\n",
       "       [ 7.    ,  0.125 ],\n",
       "       [ 8.    ,  0.1667]])"
      ]
     },
     "execution_count": 33,
     "metadata": {},
     "output_type": "execute_result"
    }
   ],
   "source": [
    "np.sort(ranks,0)"
   ]
  },
  {
   "cell_type": "code",
   "execution_count": 34,
   "metadata": {
    "collapsed": false
   },
   "outputs": [
    {
     "data": {
      "text/plain": [
       "array([[ 0.    ,  0.0833],\n",
       "       [ 1.    ,  0.125 ],\n",
       "       [ 2.    ,  0.0833],\n",
       "       [ 3.    ,  0.125 ],\n",
       "       [ 4.    ,  0.1667],\n",
       "       [ 5.    ,  0.125 ],\n",
       "       [ 6.    ,  0.0833],\n",
       "       [ 7.    ,  0.125 ],\n",
       "       [ 8.    ,  0.0833]])"
      ]
     },
     "execution_count": 34,
     "metadata": {},
     "output_type": "execute_result"
    }
   ],
   "source": [
    "ranks"
   ]
  },
  {
   "cell_type": "code",
   "execution_count": 35,
   "metadata": {
    "collapsed": false
   },
   "outputs": [
    {
     "data": {
      "text/plain": [
       "array([8, 2, 0, 6, 1, 3, 5, 7, 4])"
      ]
     },
     "execution_count": 35,
     "metadata": {},
     "output_type": "execute_result"
    }
   ],
   "source": [
    "prank.argsort()"
   ]
  },
  {
   "cell_type": "code",
   "execution_count": 38,
   "metadata": {
    "collapsed": false
   },
   "outputs": [
    {
     "data": {
      "text/plain": [
       "array([4, 7, 5, 3, 1, 6, 0, 2, 8])"
      ]
     },
     "execution_count": 38,
     "metadata": {},
     "output_type": "execute_result"
    }
   ],
   "source": [
    "prank.argsort()[::-1]"
   ]
  },
  {
   "cell_type": "code",
   "execution_count": 41,
   "metadata": {
    "collapsed": false
   },
   "outputs": [
    {
     "data": {
      "text/plain": [
       "array([ 0.0833-0.j,  0.0833-0.j,  0.1667-0.j,  0.0833-0.j,  0.0833-0.j])"
      ]
     },
     "execution_count": 41,
     "metadata": {},
     "output_type": "execute_result"
    }
   ],
   "source": [
    "prank[::2]"
   ]
  },
  {
   "cell_type": "code",
   "execution_count": 62,
   "metadata": {
    "collapsed": false
   },
   "outputs": [
    {
     "name": "stdout",
     "output_type": "stream",
     "text": [
      "(0.0833333333333-0j)\n",
      "(0.0833333333333-0j)\n",
      "(0.0833333333333-0j)\n",
      "(0.0833333333333-0j)\n",
      "(0.125-0j)\n",
      "(0.125-0j)\n",
      "(0.125-0j)\n",
      "(0.125-0j)\n",
      "(0.166666666667-0j)\n"
     ]
    }
   ],
   "source": [
    "for i in prank.argsort():\n",
    "    print prank[i]"
   ]
  },
  {
   "cell_type": "code",
   "execution_count": 63,
   "metadata": {
    "collapsed": false
   },
   "outputs": [
    {
     "data": {
      "text/plain": [
       "array([  1.24832383e+15-0.j,  -1.87248574e+15-0.j,   1.24832383e+15-0.j,\n",
       "        -1.87248574e+15-0.j,   2.49664766e+15-0.j,  -1.87248574e+15-0.j,\n",
       "         1.24832383e+15-0.j,  -1.87248574e+15-0.j,   1.24832383e+15-0.j])"
      ]
     },
     "execution_count": 63,
     "metadata": {},
     "output_type": "execute_result"
    }
   ],
   "source": [
    "antip"
   ]
  },
  {
   "cell_type": "code",
   "execution_count": 64,
   "metadata": {
    "collapsed": false
   },
   "outputs": [
    {
     "data": {
      "text/plain": [
       "array([-0.24253563+0.j,  0.36380344+0.j, -0.24253563+0.j,  0.36380344+0.j,\n",
       "       -0.48507125+0.j,  0.36380344+0.j, -0.24253563+0.j,  0.36380344+0.j,\n",
       "       -0.24253563+0.j])"
      ]
     },
     "execution_count": 64,
     "metadata": {},
     "output_type": "execute_result"
    }
   ],
   "source": [
    "v[:,1]"
   ]
  },
  {
   "cell_type": "code",
   "execution_count": 65,
   "metadata": {
    "collapsed": true
   },
   "outputs": [],
   "source": [
    "vec = real(v[:,1])"
   ]
  },
  {
   "cell_type": "code",
   "execution_count": 66,
   "metadata": {
    "collapsed": false
   },
   "outputs": [
    {
     "data": {
      "text/plain": [
       "array([-0.24253563,  0.36380344, -0.24253563,  0.36380344, -0.48507125,\n",
       "        0.36380344, -0.24253563,  0.36380344, -0.24253563])"
      ]
     },
     "execution_count": 66,
     "metadata": {},
     "output_type": "execute_result"
    }
   ],
   "source": [
    "vec"
   ]
  },
  {
   "cell_type": "code",
   "execution_count": 68,
   "metadata": {
    "collapsed": false
   },
   "outputs": [
    {
     "data": {
      "text/plain": [
       "array([[ 0.        ,  0.33333333,  0.        ,  0.33333333,  0.        ,\n",
       "         0.        ,  0.        ,  0.        ,  0.        ],\n",
       "       [ 0.5       ,  0.        ,  0.5       ,  0.        ,  0.25      ,\n",
       "         0.        ,  0.        ,  0.        ,  0.        ],\n",
       "       [ 0.        ,  0.33333333,  0.        ,  0.        ,  0.        ,\n",
       "         0.33333333,  0.        ,  0.        ,  0.        ],\n",
       "       [ 0.5       ,  0.        ,  0.        ,  0.        ,  0.25      ,\n",
       "         0.        ,  0.5       ,  0.        ,  0.        ],\n",
       "       [ 0.        ,  0.33333333,  0.        ,  0.33333333,  0.        ,\n",
       "         0.33333333,  0.        ,  0.33333333,  0.        ],\n",
       "       [ 0.        ,  0.        ,  0.5       ,  0.        ,  0.25      ,\n",
       "         0.        ,  0.        ,  0.        ,  0.5       ],\n",
       "       [ 0.        ,  0.        ,  0.        ,  0.33333333,  0.        ,\n",
       "         0.        ,  0.        ,  0.33333333,  0.        ],\n",
       "       [ 0.        ,  0.        ,  0.        ,  0.        ,  0.25      ,\n",
       "         0.        ,  0.5       ,  0.        ,  0.5       ],\n",
       "       [ 0.        ,  0.        ,  0.        ,  0.        ,  0.        ,\n",
       "         0.33333333,  0.        ,  0.33333333,  0.        ]])"
      ]
     },
     "execution_count": 68,
     "metadata": {},
     "output_type": "execute_result"
    }
   ],
   "source": [
    "transfer"
   ]
  },
  {
   "cell_type": "code",
   "execution_count": 69,
   "metadata": {
    "collapsed": true
   },
   "outputs": [],
   "source": [
    "np.set_printoptions(precision = 4, suppress=True)"
   ]
  },
  {
   "cell_type": "code",
   "execution_count": 70,
   "metadata": {
    "collapsed": false
   },
   "outputs": [
    {
     "data": {
      "text/plain": [
       "array([[ 0.    ,  0.3333,  0.    ,  0.3333,  0.    ,  0.    ,  0.    ,\n",
       "         0.    ,  0.    ],\n",
       "       [ 0.5   ,  0.    ,  0.5   ,  0.    ,  0.25  ,  0.    ,  0.    ,\n",
       "         0.    ,  0.    ],\n",
       "       [ 0.    ,  0.3333,  0.    ,  0.    ,  0.    ,  0.3333,  0.    ,\n",
       "         0.    ,  0.    ],\n",
       "       [ 0.5   ,  0.    ,  0.    ,  0.    ,  0.25  ,  0.    ,  0.5   ,\n",
       "         0.    ,  0.    ],\n",
       "       [ 0.    ,  0.3333,  0.    ,  0.3333,  0.    ,  0.3333,  0.    ,\n",
       "         0.3333,  0.    ],\n",
       "       [ 0.    ,  0.    ,  0.5   ,  0.    ,  0.25  ,  0.    ,  0.    ,\n",
       "         0.    ,  0.5   ],\n",
       "       [ 0.    ,  0.    ,  0.    ,  0.3333,  0.    ,  0.    ,  0.    ,\n",
       "         0.3333,  0.    ],\n",
       "       [ 0.    ,  0.    ,  0.    ,  0.    ,  0.25  ,  0.    ,  0.5   ,\n",
       "         0.    ,  0.5   ],\n",
       "       [ 0.    ,  0.    ,  0.    ,  0.    ,  0.    ,  0.3333,  0.    ,\n",
       "         0.3333,  0.    ]])"
      ]
     },
     "execution_count": 70,
     "metadata": {},
     "output_type": "execute_result"
    }
   ],
   "source": [
    "transfer"
   ]
  },
  {
   "cell_type": "code",
   "execution_count": 44,
   "metadata": {
    "collapsed": false
   },
   "outputs": [
    {
     "name": "stdout",
     "output_type": "stream",
     "text": [
      "hey %f\n"
     ]
    }
   ],
   "source": [
    "print 'hey %f'.format(2.5)"
   ]
  },
  {
   "cell_type": "code",
   "execution_count": 45,
   "metadata": {
    "collapsed": true
   },
   "outputs": [],
   "source": [
    "b = []"
   ]
  },
  {
   "cell_type": "code",
   "execution_count": 46,
   "metadata": {
    "collapsed": true
   },
   "outputs": [],
   "source": [
    "for i in b:\n",
    "    print i"
   ]
  },
  {
   "cell_type": "code",
   "execution_count": 93,
   "metadata": {
    "collapsed": true
   },
   "outputs": [],
   "source": [
    "neighbors = [[1,2],[0,3],[3,0],[2,1,4],[]]\n",
    "\n",
    "#transfer matrices for first and second prescriptions : \n",
    "transfer1, transfer2 = np.zeros((5,5)), np.zeros((5,5))\n",
    "#number of links per page\n",
    "links= np.zeros(5)\n",
    "for i in xrange(5):\n",
    "    links[i]=len(neighbors[i])\n",
    "    "
   ]
  },
  {
   "cell_type": "code",
   "execution_count": 97,
   "metadata": {
    "collapsed": true
   },
   "outputs": [],
   "source": [
    "for a in xrange(5):\n",
    "    for b in neighbors[a]:\n",
    "        transfer1[b,a] = 1/links[a]\n",
    "        transfer2[b,a] = 1/links[a]\n",
    "    if links[a]==0:\n",
    "        for b in range(5):\n",
    "            transfer2[b,a] = 1/4. if b!=a else 0"
   ]
  },
  {
   "cell_type": "code",
   "execution_count": 98,
   "metadata": {
    "collapsed": false
   },
   "outputs": [
    {
     "data": {
      "text/plain": [
       "array([[ 0.    ,  0.5   ,  0.5   ,  0.    ,  0.    ],\n",
       "       [ 0.5   ,  0.    ,  0.    ,  0.3333,  0.    ],\n",
       "       [ 0.5   ,  0.    ,  0.    ,  0.3333,  0.    ],\n",
       "       [ 0.    ,  0.5   ,  0.5   ,  0.    ,  0.    ],\n",
       "       [ 0.    ,  0.    ,  0.    ,  0.3333,  0.    ]])"
      ]
     },
     "execution_count": 98,
     "metadata": {},
     "output_type": "execute_result"
    }
   ],
   "source": [
    "transfer1"
   ]
  },
  {
   "cell_type": "code",
   "execution_count": 99,
   "metadata": {
    "collapsed": false
   },
   "outputs": [
    {
     "data": {
      "text/plain": [
       "array([[ 0.    ,  0.5   ,  0.5   ,  0.    ,  0.25  ],\n",
       "       [ 0.5   ,  0.    ,  0.    ,  0.3333,  0.25  ],\n",
       "       [ 0.5   ,  0.    ,  0.    ,  0.3333,  0.25  ],\n",
       "       [ 0.    ,  0.5   ,  0.5   ,  0.    ,  0.25  ],\n",
       "       [ 0.    ,  0.    ,  0.    ,  0.3333,  0.    ]])"
      ]
     },
     "execution_count": 99,
     "metadata": {},
     "output_type": "execute_result"
    }
   ],
   "source": [
    "transfer2"
   ]
  },
  {
   "cell_type": "code",
   "execution_count": 107,
   "metadata": {
    "collapsed": true
   },
   "outputs": [],
   "source": [
    "position1 = 1/5.*np.ones(5)\n",
    "position2 = 1/5.*np.ones(5)"
   ]
  },
  {
   "cell_type": "code",
   "execution_count": null,
   "metadata": {
    "collapsed": true
   },
   "outputs": [],
   "source": []
  },
  {
   "cell_type": "code",
   "execution_count": 108,
   "metadata": {
    "collapsed": false
   },
   "outputs": [
    {
     "name": "stdout",
     "output_type": "stream",
     "text": [
      "0:[ 0.2     0.1667  0.1667  0.2     0.0667] and second [ 0.25    0.2167  0.2167  0.25    0.0667]\n",
      "5:[ 0.1157  0.1157  0.1157  0.1157  0.0463] and second [ 0.2356  0.2236  0.2236  0.2356  0.0816]\n",
      "10:[ 0.0804  0.067   0.067   0.0804  0.0268] and second [ 0.2427  0.2178  0.2178  0.2427  0.079 ]\n",
      "15:[ 0.0465  0.0465  0.0465  0.0465  0.0186] and second [ 0.2383  0.2214  0.2214  0.2383  0.0806]\n",
      "20:[ 0.0323  0.0269  0.0269  0.0323  0.0108] and second [ 0.241   0.2192  0.2192  0.241   0.0796]\n",
      "25:[ 0.0187  0.0187  0.0187  0.0187  0.0075] and second [ 0.2394  0.2205  0.2205  0.2394  0.0802]\n",
      "30:[ 0.013   0.0108  0.0108  0.013   0.0043] and second [ 0.2404  0.2197  0.2197  0.2404  0.0799]\n",
      "35:[ 0.0075  0.0075  0.0075  0.0075  0.003 ] and second [ 0.2398  0.2202  0.2202  0.2398  0.0801]\n",
      "40:[ 0.0052  0.0043  0.0043  0.0052  0.0017] and second [ 0.2401  0.2199  0.2199  0.2401  0.0799]\n",
      "45:[ 0.003   0.003   0.003   0.003   0.0012] and second [ 0.2399  0.2201  0.2201  0.2399  0.08  ]\n",
      "50:[ 0.0021  0.0017  0.0017  0.0021  0.0007] and second [ 0.2401  0.22    0.22    0.2401  0.08  ]\n",
      "55:[ 0.0012  0.0012  0.0012  0.0012  0.0005] and second [ 0.24  0.22  0.22  0.24  0.08]\n",
      "60:[ 0.0008  0.0007  0.0007  0.0008  0.0003] and second [ 0.24  0.22  0.22  0.24  0.08]\n",
      "65:[ 0.0005  0.0005  0.0005  0.0005  0.0002] and second [ 0.24  0.22  0.22  0.24  0.08]\n",
      "70:[ 0.0003  0.0003  0.0003  0.0003  0.0001] and second [ 0.24  0.22  0.22  0.24  0.08]\n",
      "75:[ 0.0002  0.0002  0.0002  0.0002  0.0001] and second [ 0.24  0.22  0.22  0.24  0.08]\n",
      "80:[ 0.0001  0.0001  0.0001  0.0001  0.    ] and second [ 0.24  0.22  0.22  0.24  0.08]\n",
      "85:[ 0.0001  0.0001  0.0001  0.0001  0.    ] and second [ 0.24  0.22  0.22  0.24  0.08]\n",
      "90:[ 0.0001  0.      0.      0.0001  0.    ] and second [ 0.24  0.22  0.22  0.24  0.08]\n",
      "95:[ 0.  0.  0.  0.  0.] and second [ 0.24  0.22  0.22  0.24  0.08]\n"
     ]
    }
   ],
   "source": [
    "for i in range(100):\n",
    "    position1 = np.dot(transfer1, position1)\n",
    "    position2 = np.dot(transfer2, position2)\n",
    "    if i%5==0:\n",
    "        print str(i)+\":\"+str(position1)+ \" and second \" +str(position2)\n",
    "            "
   ]
  },
  {
   "cell_type": "code",
   "execution_count": null,
   "metadata": {
    "collapsed": true
   },
   "outputs": [],
   "source": []
  }
 ],
 "metadata": {
  "kernelspec": {
   "display_name": "Python 2",
   "language": "python",
   "name": "python2"
  },
  "language_info": {
   "codemirror_mode": {
    "name": "ipython",
    "version": 2
   },
   "file_extension": ".py",
   "mimetype": "text/x-python",
   "name": "python",
   "nbconvert_exporter": "python",
   "pygments_lexer": "ipython2",
   "version": "2.7.12"
  }
 },
 "nbformat": 4,
 "nbformat_minor": 1
}
